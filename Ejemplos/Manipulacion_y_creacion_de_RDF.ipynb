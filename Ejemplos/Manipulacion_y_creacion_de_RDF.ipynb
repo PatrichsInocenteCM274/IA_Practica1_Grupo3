{
  "nbformat": 4,
  "nbformat_minor": 0,
  "metadata": {
    "colab": {
      "name": "Manipulacion y creacion de RDF.ipynb",
      "provenance": []
    },
    "kernelspec": {
      "name": "python3",
      "display_name": "Python 3"
    },
    "language_info": {
      "name": "python"
    }
  },
  "cells": [
    {
      "cell_type": "code",
      "metadata": {
        "colab": {
          "base_uri": "https://localhost:8080/"
        },
        "id": "qd0TE58iqHLs",
        "outputId": "e1cfbc35-6669-4921-8c6a-43fb2256863d"
      },
      "source": [
        "!pip install rdflib\n"
      ],
      "execution_count": 1,
      "outputs": [
        {
          "output_type": "stream",
          "text": [
            "Collecting rdflib\n",
            "\u001b[?25l  Downloading https://files.pythonhosted.org/packages/d0/6b/6454aa1db753c0f8bc265a5bd5c10b5721a4bb24160fb4faf758cf6be8a1/rdflib-5.0.0-py3-none-any.whl (231kB)\n",
            "\u001b[K     |████████████████████████████████| 235kB 11.3MB/s \n",
            "\u001b[?25hRequirement already satisfied: six in /usr/local/lib/python3.7/dist-packages (from rdflib) (1.15.0)\n",
            "Collecting isodate\n",
            "\u001b[?25l  Downloading https://files.pythonhosted.org/packages/9b/9f/b36f7774ff5ea8e428fdcfc4bb332c39ee5b9362ddd3d40d9516a55221b2/isodate-0.6.0-py2.py3-none-any.whl (45kB)\n",
            "\u001b[K     |████████████████████████████████| 51kB 6.0MB/s \n",
            "\u001b[?25hRequirement already satisfied: pyparsing in /usr/local/lib/python3.7/dist-packages (from rdflib) (2.4.7)\n",
            "Installing collected packages: isodate, rdflib\n",
            "Successfully installed isodate-0.6.0 rdflib-5.0.0\n"
          ],
          "name": "stdout"
        }
      ]
    },
    {
      "cell_type": "code",
      "metadata": {
        "colab": {
          "base_uri": "https://localhost:8080/"
        },
        "id": "OuwvJUzCqTyQ",
        "outputId": "a971cac6-cf8e-46b4-e58b-d27a3871b3a5"
      },
      "source": [
        "!pip show rdflib\n"
      ],
      "execution_count": 2,
      "outputs": [
        {
          "output_type": "stream",
          "text": [
            "Name: rdflib\n",
            "Version: 5.0.0\n",
            "Summary: RDFLib is a Python library for working with RDF, a simple yet powerful language for representing information.\n",
            "Home-page: https://github.com/RDFLib/rdflib\n",
            "Author: Daniel 'eikeon' Krech\n",
            "Author-email: eikeon@eikeon.com\n",
            "License: BSD-3-Clause\n",
            "Location: /usr/local/lib/python3.7/dist-packages\n",
            "Requires: six, pyparsing, isodate\n",
            "Required-by: \n"
          ],
          "name": "stdout"
        }
      ]
    },
    {
      "cell_type": "code",
      "metadata": {
        "id": "llR5YgxEq1K_"
      },
      "source": [
        "from rdflib import Graph"
      ],
      "execution_count": 3,
      "outputs": []
    },
    {
      "cell_type": "code",
      "metadata": {
        "id": "Z9lna0veq808"
      },
      "source": [
        "g = Graph()"
      ],
      "execution_count": 4,
      "outputs": []
    },
    {
      "cell_type": "code",
      "metadata": {
        "colab": {
          "base_uri": "https://localhost:8080/"
        },
        "id": "AAUxuiQLrChk",
        "outputId": "2ccfcaf2-3b43-43b8-8b85-9ea83c857aff"
      },
      "source": [
        "g.parse('http://dbpedia.org/resource/Michael_Jackson')"
      ],
      "execution_count": 5,
      "outputs": [
        {
          "output_type": "execute_result",
          "data": {
            "text/plain": [
              "<Graph identifier=N18016f8136404e8c96d50e5345681e5e (<class 'rdflib.graph.Graph'>)>"
            ]
          },
          "metadata": {
            "tags": []
          },
          "execution_count": 5
        }
      ]
    },
    {
      "cell_type": "code",
      "metadata": {
        "colab": {
          "base_uri": "https://localhost:8080/"
        },
        "id": "Wn5P_w6YrZv6",
        "outputId": "951dc572-ba4c-452e-fe92-6f30a481ee1c"
      },
      "source": [
        "for index, (sub, pred, obj) in enumerate(g):\n",
        "    print(sub)\n",
        "    if index==10:\n",
        "        break"
      ],
      "execution_count": 8,
      "outputs": [
        {
          "output_type": "stream",
          "text": [
            "http://dbpedia.org/resource/18_Greatest_Hits_(Michael_Jackson_album)\n",
            "http://dbpedia.org/resource/Jaime_Hinckson\n",
            "http://dbpedia.org/resource/Mojo_Books\n",
            "http://dbpedia.org/resource/Heatwave_(band)\n",
            "http://dbpedia.org/resource/Tim_Pierce_discography\n",
            "http://dbpedia.org/resource/List_of_film_and_television_directors\n",
            "http://dbpedia.org/resource/Madame_Tussauds_Beijing\n",
            "http://dbpedia.org/resource/Pharrell_Williams\n",
            "http://dbpedia.org/resource/List_of_number-one_hits_of_2010_(Germany)\n",
            "http://dbpedia.org/resource/List_of_European_number-one_hits_of_1983\n",
            "http://dbpedia.org/resource/Michael_Jackson\n"
          ],
          "name": "stdout"
        }
      ]
    },
    {
      "cell_type": "code",
      "metadata": {
        "colab": {
          "base_uri": "https://localhost:8080/"
        },
        "id": "qvfDi27ZsRyR",
        "outputId": "93721197-aabb-4ef6-cc9a-356c793c2aed"
      },
      "source": [
        "print(f'graph has {len(g)} facts')"
      ],
      "execution_count": 9,
      "outputs": [
        {
          "output_type": "stream",
          "text": [
            "graph has 9368 facts\n"
          ],
          "name": "stdout"
        }
      ]
    },
    {
      "cell_type": "markdown",
      "metadata": {
        "id": "cLcg5aGBsi8Y"
      },
      "source": [
        "EXAMPLE 2"
      ]
    },
    {
      "cell_type": "code",
      "metadata": {
        "id": "Cam-OphWsfGB"
      },
      "source": [
        "from rdflib import Graph, Literal, RDF, URIRef\n",
        "from rdflib.namespace import FOAF, XSD\n",
        "\n",
        "#create a graph\n",
        "g= Graph()"
      ],
      "execution_count": 10,
      "outputs": []
    },
    {
      "cell_type": "code",
      "metadata": {
        "id": "txUjCHoktbE3"
      },
      "source": [
        "mason=URIRef(\"http://example.org/mason\")\n",
        "\n",
        "g.add((mason, RDF.type, FOAF.Person))\n",
        "g.add((mason, FOAF.nick, Literal(\"mason\", lang=\"en\")))\n",
        "g.add((mason, FOAF.name, Literal(\"Mason Carter\")))\n",
        "g.add((mason, FOAF.mbox, URIRef(\"mailto:mason@example.org\")))"
      ],
      "execution_count": 13,
      "outputs": []
    },
    {
      "cell_type": "code",
      "metadata": {
        "id": "_xf-FcWpvNgA"
      },
      "source": [
        "#Añadiendo a otra persona\n",
        "Shyla = URIRef(\"http://exmple.org/shyla\")\n",
        "\n",
        "g.add((Shyla, RDF.type, FOAF.Person))\n",
        "g.add((Shyla, FOAF.nick, Literal(\"Shyla\", lang=\"en\")))\n",
        "g.add((Shyla, FOAF.name, Literal(\"Shyla Sharples\")))\n",
        "g.add((Shyla, FOAF.mbox, URIRef(\"mailto:shyla@example.org\")))"
      ],
      "execution_count": 14,
      "outputs": []
    },
    {
      "cell_type": "code",
      "metadata": {
        "colab": {
          "base_uri": "https://localhost:8080/"
        },
        "id": "4dsV7xQEwlNh",
        "outputId": "d75bbbb6-485a-49e1-ea1b-de2fac260e9c"
      },
      "source": [
        "for s, p, o in g:\n",
        "  print(s, p, o)"
      ],
      "execution_count": 15,
      "outputs": [
        {
          "output_type": "stream",
          "text": [
            "http://example.org/mason http://xmlns.com/foaf/0.1/nick mason\n",
            "http://exmple.org/shyla http://xmlns.com/foaf/0.1/name Shyla Sharples\n",
            "http://example.org/mason http://www.w3.org/1999/02/22-rdf-syntax-ns#type http://xmlns.com/foaf/0.1/Person\n",
            "http://example.org/mason http://xmlns.com/foaf/0.1/name Mason Carter\n",
            "http://exmple.org/shyla http://xmlns.com/foaf/0.1/nick Shyla\n",
            "http://exmple.org/shyla http://www.w3.org/1999/02/22-rdf-syntax-ns#type http://xmlns.com/foaf/0.1/Person\n",
            "http://exmple.org/shyla http://xmlns.com/foaf/0.1/mbox mailto:shyla@example.org\n",
            "http://example.org/mason http://xmlns.com/foaf/0.1/mbox mailto:mason@example.org\n"
          ],
          "name": "stdout"
        }
      ]
    },
    {
      "cell_type": "code",
      "metadata": {
        "colab": {
          "base_uri": "https://localhost:8080/"
        },
        "id": "tcLH1Qi2w6IL",
        "outputId": "4bcf8a2f-477b-4989-b630-bd98f499ee89"
      },
      "source": [
        "# For each foaf:Person in the graph, print out their nickname's value.\n",
        "for person in g.subjects(RDF.type, FOAF.Person):\n",
        "  for nick in g.objects(person, FOAF.nick):\n",
        "      print(nick)"
      ],
      "execution_count": 17,
      "outputs": [
        {
          "output_type": "stream",
          "text": [
            "Shyla\n",
            "mason\n"
          ],
          "name": "stdout"
        }
      ]
    },
    {
      "cell_type": "code",
      "metadata": {
        "colab": {
          "base_uri": "https://localhost:8080/"
        },
        "id": "J2AOKiXAxLNW",
        "outputId": "da695291-8e4f-41fd-f77b-f01c83a626e6"
      },
      "source": [
        "# Bind the FOAF namespace to a prefix for more readable output\n",
        "g.bind(\"foaf\", FOAF)\n",
        "\n",
        "# Print all the data in the n3 format\n",
        "print(g.serialize(format='n3').decode(\"utf-8\"))"
      ],
      "execution_count": 18,
      "outputs": [
        {
          "output_type": "stream",
          "text": [
            "@prefix foaf: <http://xmlns.com/foaf/0.1/> .\n",
            "\n",
            "<http://example.org/mason> a foaf:Person ;\n",
            "    foaf:mbox <mailto:mason@example.org> ;\n",
            "    foaf:name \"Mason Carter\" ;\n",
            "    foaf:nick \"mason\"@en .\n",
            "\n",
            "<http://exmple.org/shyla> a foaf:Person ;\n",
            "    foaf:mbox <mailto:shyla@example.org> ;\n",
            "    foaf:name \"Shyla Sharples\" ;\n",
            "    foaf:nick \"Shyla\"@en .\n",
            "\n",
            "\n"
          ],
          "name": "stdout"
        }
      ]
    }
  ]
}