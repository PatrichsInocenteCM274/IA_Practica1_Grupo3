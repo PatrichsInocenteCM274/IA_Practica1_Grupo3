{
 "cells": [
  {
   "cell_type": "code",
   "execution_count": 40,
   "metadata": {},
   "outputs": [
    {
     "name": "stdout",
     "output_type": "stream",
     "text": [
      "Requirement already satisfied: rdflib in d:\\anaconda\\lib\\site-packages (5.0.0)\n",
      "Requirement already satisfied: pyparsing in d:\\anaconda\\lib\\site-packages (from rdflib) (2.4.7)\n",
      "Requirement already satisfied: six in d:\\anaconda\\lib\\site-packages (from rdflib) (1.15.0)\n",
      "Requirement already satisfied: isodate in d:\\anaconda\\lib\\site-packages (from rdflib) (0.6.0)\n"
     ]
    }
   ],
   "source": [
    "!pip install rdflib"
   ]
  },
  {
   "cell_type": "code",
   "execution_count": 41,
   "metadata": {},
   "outputs": [],
   "source": [
    "import rdflib"
   ]
  },
  {
   "cell_type": "code",
   "execution_count": 42,
   "metadata": {},
   "outputs": [],
   "source": [
    "g = rdflib.Graph()"
   ]
  },
  {
   "cell_type": "code",
   "execution_count": 43,
   "metadata": {},
   "outputs": [
    {
     "data": {
      "text/plain": [
       "<Graph identifier=Ne7702da879664bd881a18c5825a5a0c2 (<class 'rdflib.graph.Graph'>)>"
      ]
     },
     "execution_count": 43,
     "metadata": {},
     "output_type": "execute_result"
    }
   ],
   "source": [
    "g.parse('https://dbpedia.org/resource/Berlin')"
   ]
  },
  {
   "cell_type": "code",
   "execution_count": 44,
   "metadata": {},
   "outputs": [
    {
     "name": "stdout",
     "output_type": "stream",
     "text": [
      "http://dbpedia.org/resource/Sula_Wolff http://dbpedia.org/ontology/birthPlace http://dbpedia.org/resource/Berlin\n"
     ]
    }
   ],
   "source": [
    "for s, p, o in g:\n",
    "    print(s, p, o)\n",
    "    break"
   ]
  },
  {
   "cell_type": "code",
   "execution_count": 45,
   "metadata": {},
   "outputs": [
    {
     "name": "stdout",
     "output_type": "stream",
     "text": [
      "10001\n"
     ]
    }
   ],
   "source": [
    "print(len(g))"
   ]
  },
  {
   "cell_type": "code",
   "execution_count": 46,
   "metadata": {},
   "outputs": [
    {
     "name": "stdout",
     "output_type": "stream",
     "text": [
      "Triple existe!\n"
     ]
    }
   ],
   "source": [
    "from rdflib import URIRef\n",
    "\n",
    "if(s,p,o) in g:\n",
    "    print(f'Triple existe!')\n",
    "else:\n",
    "    print(f'Triple no existe!')"
   ]
  },
  {
   "cell_type": "code",
   "execution_count": 47,
   "metadata": {},
   "outputs": [
    {
     "name": "stdout",
     "output_type": "stream",
     "text": [
      "{rdflib.term.URIRef('http://dbpedia.org/ontology/PopulatedPlace/areaTotal'),\n",
      " rdflib.term.URIRef('http://dbpedia.org/ontology/abstract'),\n",
      " rdflib.term.URIRef('http://dbpedia.org/ontology/areaCode'),\n",
      " rdflib.term.URIRef('http://dbpedia.org/ontology/areaTotal'),\n",
      " rdflib.term.URIRef('http://dbpedia.org/ontology/birthPlace'),\n",
      " rdflib.term.URIRef('http://dbpedia.org/ontology/country'),\n",
      " rdflib.term.URIRef('http://dbpedia.org/ontology/deathPlace'),\n",
      " rdflib.term.URIRef('http://dbpedia.org/ontology/elevation'),\n",
      " rdflib.term.URIRef('http://dbpedia.org/ontology/governingBody'),\n",
      " rdflib.term.URIRef('http://dbpedia.org/ontology/isoCodeRegion'),\n",
      " rdflib.term.URIRef('http://dbpedia.org/ontology/politicalLeader'),\n",
      " rdflib.term.URIRef('http://dbpedia.org/ontology/populationAsOf'),\n",
      " rdflib.term.URIRef('http://dbpedia.org/ontology/populationMetro'),\n",
      " rdflib.term.URIRef('http://dbpedia.org/ontology/populationTotal'),\n",
      " rdflib.term.URIRef('http://dbpedia.org/ontology/thumbnail'),\n",
      " rdflib.term.URIRef('http://dbpedia.org/ontology/timeZone'),\n",
      " rdflib.term.URIRef('http://dbpedia.org/ontology/type'),\n",
      " rdflib.term.URIRef('http://dbpedia.org/ontology/utcOffset'),\n",
      " rdflib.term.URIRef('http://dbpedia.org/ontology/wikiPageExternalLink'),\n",
      " rdflib.term.URIRef('http://dbpedia.org/ontology/wikiPageID'),\n",
      " rdflib.term.URIRef('http://dbpedia.org/ontology/wikiPageLength'),\n",
      " rdflib.term.URIRef('http://dbpedia.org/ontology/wikiPageRevisionID'),\n",
      " rdflib.term.URIRef('http://dbpedia.org/ontology/wikiPageWikiLink'),\n",
      " rdflib.term.URIRef('http://dbpedia.org/property/align'),\n",
      " rdflib.term.URIRef('http://dbpedia.org/property/areaCode'),\n",
      " rdflib.term.URIRef('http://dbpedia.org/property/areaTotalKm'),\n",
      " rdflib.term.URIRef('http://dbpedia.org/property/birthPlace'),\n",
      " rdflib.term.URIRef('http://dbpedia.org/property/blank1InfoSec'),\n",
      " rdflib.term.URIRef('http://dbpedia.org/property/blank1NameSec'),\n",
      " rdflib.term.URIRef('http://dbpedia.org/property/blank2InfoSec'),\n",
      " rdflib.term.URIRef('http://dbpedia.org/property/blank2NameSec'),\n",
      " rdflib.term.URIRef('http://dbpedia.org/property/blankInfoSec'),\n",
      " rdflib.term.URIRef('http://dbpedia.org/property/blankNameSec'),\n",
      " rdflib.term.URIRef('http://dbpedia.org/property/caption'),\n",
      " rdflib.term.URIRef('http://dbpedia.org/property/captionAlign'),\n",
      " rdflib.term.URIRef('http://dbpedia.org/property/date'),\n",
      " rdflib.term.URIRef('http://dbpedia.org/property/deathPlace'),\n",
      " rdflib.term.URIRef('http://dbpedia.org/property/elevationM'),\n",
      " rdflib.term.URIRef('http://dbpedia.org/property/footer'),\n",
      " rdflib.term.URIRef('http://dbpedia.org/property/footerAlign'),\n",
      " rdflib.term.URIRef('http://dbpedia.org/property/geocode'),\n",
      " rdflib.term.URIRef('http://dbpedia.org/property/governingBody'),\n",
      " rdflib.term.URIRef('http://dbpedia.org/property/height'),\n",
      " rdflib.term.URIRef('http://dbpedia.org/property/image'),\n",
      " rdflib.term.URIRef('http://dbpedia.org/property/imageFlag'),\n",
      " rdflib.term.URIRef('http://dbpedia.org/property/imageShield'),\n",
      " rdflib.term.URIRef('http://dbpedia.org/property/isoCode'),\n",
      " rdflib.term.URIRef('http://dbpedia.org/property/leaderName'),\n",
      " rdflib.term.URIRef('http://dbpedia.org/property/leaderParty'),\n",
      " rdflib.term.URIRef('http://dbpedia.org/property/leaderTitle'),\n",
      " rdflib.term.URIRef('http://dbpedia.org/property/name'),\n",
      " rdflib.term.URIRef('http://dbpedia.org/property/perrow'),\n",
      " rdflib.term.URIRef('http://dbpedia.org/property/populationAsOf'),\n",
      " rdflib.term.URIRef('http://dbpedia.org/property/populationDemonyms'),\n",
      " rdflib.term.URIRef('http://dbpedia.org/property/populationMetro'),\n",
      " rdflib.term.URIRef('http://dbpedia.org/property/populationTotal'),\n",
      " rdflib.term.URIRef('http://dbpedia.org/property/pushpinMap'),\n",
      " rdflib.term.URIRef('http://dbpedia.org/property/pushpinMapCaption'),\n",
      " rdflib.term.URIRef('http://dbpedia.org/property/pushpinRelief'),\n",
      " rdflib.term.URIRef('http://dbpedia.org/property/reason'),\n",
      " rdflib.term.URIRef('http://dbpedia.org/property/registrationPlate'),\n",
      " rdflib.term.URIRef('http://dbpedia.org/property/settlementType'),\n",
      " rdflib.term.URIRef('http://dbpedia.org/property/shieldSize'),\n",
      " rdflib.term.URIRef('http://dbpedia.org/property/subdivisionType'),\n",
      " rdflib.term.URIRef('http://dbpedia.org/property/timezone'),\n",
      " rdflib.term.URIRef('http://dbpedia.org/property/timezone1Dst'),\n",
      " rdflib.term.URIRef('http://dbpedia.org/property/totalType'),\n",
      " rdflib.term.URIRef('http://dbpedia.org/property/totalWidth'),\n",
      " rdflib.term.URIRef('http://dbpedia.org/property/utcOffset'),\n",
      " rdflib.term.URIRef('http://dbpedia.org/property/utcOffset1Dst'),\n",
      " rdflib.term.URIRef('http://dbpedia.org/property/width'),\n",
      " rdflib.term.URIRef('http://dbpedia.org/property/wikiPageUsesTemplate'),\n",
      " rdflib.term.URIRef('http://purl.org/dc/terms/isPartOf'),\n",
      " rdflib.term.URIRef('http://purl.org/dc/terms/subject'),\n",
      " rdflib.term.URIRef('http://schema.org/sameAs'),\n",
      " rdflib.term.URIRef('http://www.georss.org/georss/point'),\n",
      " rdflib.term.URIRef('http://www.w3.org/1999/02/22-rdf-syntax-ns#type'),\n",
      " rdflib.term.URIRef('http://www.w3.org/2000/01/rdf-schema#comment'),\n",
      " rdflib.term.URIRef('http://www.w3.org/2000/01/rdf-schema#label'),\n",
      " rdflib.term.URIRef('http://www.w3.org/2000/01/rdf-schema#seeAlso'),\n",
      " rdflib.term.URIRef('http://www.w3.org/2002/07/owl#sameAs'),\n",
      " rdflib.term.URIRef('http://www.w3.org/2003/01/geo/wgs84_pos#geometry'),\n",
      " rdflib.term.URIRef('http://www.w3.org/2003/01/geo/wgs84_pos#lat'),\n",
      " rdflib.term.URIRef('http://www.w3.org/2003/01/geo/wgs84_pos#long'),\n",
      " rdflib.term.URIRef('http://www.w3.org/2004/02/skos/core#exactMatch'),\n",
      " rdflib.term.URIRef('http://www.w3.org/ns/prov#wasDerivedFrom'),\n",
      " rdflib.term.URIRef('http://xmlns.com/foaf/0.1/depiction'),\n",
      " rdflib.term.URIRef('http://xmlns.com/foaf/0.1/homepage'),\n",
      " rdflib.term.URIRef('http://xmlns.com/foaf/0.1/isPrimaryTopicOf'),\n",
      " rdflib.term.URIRef('http://xmlns.com/foaf/0.1/name'),\n",
      " rdflib.term.URIRef('http://xmlns.com/foaf/0.1/primaryTopic')}\n"
     ]
    }
   ],
   "source": [
    "from rdflib.namespace import RDF, RDFS, OWL, FOAF\n",
    "\n",
    "properties1 = set()\n",
    "for s,p,o in g:\n",
    "    properties1.add(p)\n",
    "from pprint import pprint\n",
    "pprint(properties1)"
   ]
  },
  {
   "cell_type": "code",
   "execution_count": 48,
   "metadata": {},
   "outputs": [
    {
     "data": {
      "text/plain": [
       "91"
      ]
     },
     "execution_count": 48,
     "metadata": {},
     "output_type": "execute_result"
    }
   ],
   "source": [
    "len(properties1)"
   ]
  },
  {
   "cell_type": "code",
   "execution_count": 49,
   "metadata": {},
   "outputs": [
    {
     "name": "stdout",
     "output_type": "stream",
     "text": [
      "{rdflib.term.URIRef('http://dbpedia.org/ontology/PopulatedPlace/areaTotal'),\n",
      " rdflib.term.URIRef('http://dbpedia.org/ontology/abstract'),\n",
      " rdflib.term.URIRef('http://dbpedia.org/ontology/areaCode'),\n",
      " rdflib.term.URIRef('http://dbpedia.org/ontology/areaTotal'),\n",
      " rdflib.term.URIRef('http://dbpedia.org/ontology/birthPlace'),\n",
      " rdflib.term.URIRef('http://dbpedia.org/ontology/country'),\n",
      " rdflib.term.URIRef('http://dbpedia.org/ontology/deathPlace'),\n",
      " rdflib.term.URIRef('http://dbpedia.org/ontology/elevation'),\n",
      " rdflib.term.URIRef('http://dbpedia.org/ontology/governingBody'),\n",
      " rdflib.term.URIRef('http://dbpedia.org/ontology/isoCodeRegion'),\n",
      " rdflib.term.URIRef('http://dbpedia.org/ontology/politicalLeader'),\n",
      " rdflib.term.URIRef('http://dbpedia.org/ontology/populationAsOf'),\n",
      " rdflib.term.URIRef('http://dbpedia.org/ontology/populationMetro'),\n",
      " rdflib.term.URIRef('http://dbpedia.org/ontology/populationTotal'),\n",
      " rdflib.term.URIRef('http://dbpedia.org/ontology/thumbnail'),\n",
      " rdflib.term.URIRef('http://dbpedia.org/ontology/timeZone'),\n",
      " rdflib.term.URIRef('http://dbpedia.org/ontology/type'),\n",
      " rdflib.term.URIRef('http://dbpedia.org/ontology/utcOffset'),\n",
      " rdflib.term.URIRef('http://dbpedia.org/ontology/wikiPageExternalLink'),\n",
      " rdflib.term.URIRef('http://dbpedia.org/ontology/wikiPageID'),\n",
      " rdflib.term.URIRef('http://dbpedia.org/ontology/wikiPageLength'),\n",
      " rdflib.term.URIRef('http://dbpedia.org/ontology/wikiPageRevisionID'),\n",
      " rdflib.term.URIRef('http://dbpedia.org/ontology/wikiPageWikiLink'),\n",
      " rdflib.term.URIRef('http://dbpedia.org/property/align'),\n",
      " rdflib.term.URIRef('http://dbpedia.org/property/areaCode'),\n",
      " rdflib.term.URIRef('http://dbpedia.org/property/areaTotalKm'),\n",
      " rdflib.term.URIRef('http://dbpedia.org/property/birthPlace'),\n",
      " rdflib.term.URIRef('http://dbpedia.org/property/blank1InfoSec'),\n",
      " rdflib.term.URIRef('http://dbpedia.org/property/blank1NameSec'),\n",
      " rdflib.term.URIRef('http://dbpedia.org/property/blank2InfoSec'),\n",
      " rdflib.term.URIRef('http://dbpedia.org/property/blank2NameSec'),\n",
      " rdflib.term.URIRef('http://dbpedia.org/property/blankInfoSec'),\n",
      " rdflib.term.URIRef('http://dbpedia.org/property/blankNameSec'),\n",
      " rdflib.term.URIRef('http://dbpedia.org/property/caption'),\n",
      " rdflib.term.URIRef('http://dbpedia.org/property/captionAlign'),\n",
      " rdflib.term.URIRef('http://dbpedia.org/property/date'),\n",
      " rdflib.term.URIRef('http://dbpedia.org/property/deathPlace'),\n",
      " rdflib.term.URIRef('http://dbpedia.org/property/elevationM'),\n",
      " rdflib.term.URIRef('http://dbpedia.org/property/footer'),\n",
      " rdflib.term.URIRef('http://dbpedia.org/property/footerAlign'),\n",
      " rdflib.term.URIRef('http://dbpedia.org/property/geocode'),\n",
      " rdflib.term.URIRef('http://dbpedia.org/property/governingBody'),\n",
      " rdflib.term.URIRef('http://dbpedia.org/property/height'),\n",
      " rdflib.term.URIRef('http://dbpedia.org/property/image'),\n",
      " rdflib.term.URIRef('http://dbpedia.org/property/imageFlag'),\n",
      " rdflib.term.URIRef('http://dbpedia.org/property/imageShield'),\n",
      " rdflib.term.URIRef('http://dbpedia.org/property/isoCode'),\n",
      " rdflib.term.URIRef('http://dbpedia.org/property/leaderName'),\n",
      " rdflib.term.URIRef('http://dbpedia.org/property/leaderParty'),\n",
      " rdflib.term.URIRef('http://dbpedia.org/property/leaderTitle'),\n",
      " rdflib.term.URIRef('http://dbpedia.org/property/name'),\n",
      " rdflib.term.URIRef('http://dbpedia.org/property/perrow'),\n",
      " rdflib.term.URIRef('http://dbpedia.org/property/populationAsOf'),\n",
      " rdflib.term.URIRef('http://dbpedia.org/property/populationDemonyms'),\n",
      " rdflib.term.URIRef('http://dbpedia.org/property/populationMetro'),\n",
      " rdflib.term.URIRef('http://dbpedia.org/property/populationTotal'),\n",
      " rdflib.term.URIRef('http://dbpedia.org/property/pushpinMap'),\n",
      " rdflib.term.URIRef('http://dbpedia.org/property/pushpinMapCaption'),\n",
      " rdflib.term.URIRef('http://dbpedia.org/property/pushpinRelief'),\n",
      " rdflib.term.URIRef('http://dbpedia.org/property/reason'),\n",
      " rdflib.term.URIRef('http://dbpedia.org/property/registrationPlate'),\n",
      " rdflib.term.URIRef('http://dbpedia.org/property/settlementType'),\n",
      " rdflib.term.URIRef('http://dbpedia.org/property/shieldSize'),\n",
      " rdflib.term.URIRef('http://dbpedia.org/property/subdivisionType'),\n",
      " rdflib.term.URIRef('http://dbpedia.org/property/timezone'),\n",
      " rdflib.term.URIRef('http://dbpedia.org/property/timezone1Dst'),\n",
      " rdflib.term.URIRef('http://dbpedia.org/property/totalType'),\n",
      " rdflib.term.URIRef('http://dbpedia.org/property/totalWidth'),\n",
      " rdflib.term.URIRef('http://dbpedia.org/property/utcOffset'),\n",
      " rdflib.term.URIRef('http://dbpedia.org/property/utcOffset1Dst'),\n",
      " rdflib.term.URIRef('http://dbpedia.org/property/width'),\n",
      " rdflib.term.URIRef('http://dbpedia.org/property/wikiPageUsesTemplate'),\n",
      " rdflib.term.URIRef('http://purl.org/dc/terms/isPartOf'),\n",
      " rdflib.term.URIRef('http://purl.org/dc/terms/subject'),\n",
      " rdflib.term.URIRef('http://schema.org/sameAs'),\n",
      " rdflib.term.URIRef('http://www.georss.org/georss/point'),\n",
      " rdflib.term.URIRef('http://www.w3.org/1999/02/22-rdf-syntax-ns#type'),\n",
      " rdflib.term.URIRef('http://www.w3.org/2000/01/rdf-schema#comment'),\n",
      " rdflib.term.URIRef('http://www.w3.org/2000/01/rdf-schema#label'),\n",
      " rdflib.term.URIRef('http://www.w3.org/2000/01/rdf-schema#seeAlso'),\n",
      " rdflib.term.URIRef('http://www.w3.org/2002/07/owl#sameAs'),\n",
      " rdflib.term.URIRef('http://www.w3.org/2003/01/geo/wgs84_pos#geometry'),\n",
      " rdflib.term.URIRef('http://www.w3.org/2003/01/geo/wgs84_pos#lat'),\n",
      " rdflib.term.URIRef('http://www.w3.org/2003/01/geo/wgs84_pos#long'),\n",
      " rdflib.term.URIRef('http://www.w3.org/2004/02/skos/core#exactMatch'),\n",
      " rdflib.term.URIRef('http://www.w3.org/ns/prov#wasDerivedFrom'),\n",
      " rdflib.term.URIRef('http://xmlns.com/foaf/0.1/depiction'),\n",
      " rdflib.term.URIRef('http://xmlns.com/foaf/0.1/homepage'),\n",
      " rdflib.term.URIRef('http://xmlns.com/foaf/0.1/isPrimaryTopicOf'),\n",
      " rdflib.term.URIRef('http://xmlns.com/foaf/0.1/name'),\n",
      " rdflib.term.URIRef('http://xmlns.com/foaf/0.1/primaryTopic')}\n"
     ]
    }
   ],
   "source": [
    "properties2 = set()\n",
    "for p in g.predicates():\n",
    "    properties2.add(p)\n",
    "\n",
    "pprint(properties2)"
   ]
  },
  {
   "cell_type": "code",
   "execution_count": 50,
   "metadata": {},
   "outputs": [
    {
     "data": {
      "text/plain": [
       "91"
      ]
     },
     "execution_count": 50,
     "metadata": {},
     "output_type": "execute_result"
    }
   ],
   "source": [
    "len(properties2)"
   ]
  },
  {
   "cell_type": "code",
   "execution_count": 51,
   "metadata": {},
   "outputs": [
    {
     "name": "stdout",
     "output_type": "stream",
     "text": [
      "Западный Берлин\n",
      "Východní Berlín\n",
      "Västberlin\n",
      "Berlín Occidental\n",
      "Berlin\n",
      "Berlim Leste\n",
      "Berlín\n",
      "Ανατολικό Βερολίνο\n",
      "Okcidenta Berlino\n",
      "برلين الشرقية\n",
      "Berlino\n",
      "Berlin\n",
      "Berlin\n",
      "Berlín Oeste\n",
      "Berlijn\n",
      "베를린\n",
      "Beirlín\n",
      "Берлін\n",
      "Mendebaldeko Berlin\n",
      "Восточный Берлин\n",
      "Berlin-Est\n",
      "Berlín\n",
      "Berlin\n",
      "Berlino\n",
      "동베를린\n",
      "Berlin Timur\n",
      "柏林\n",
      "Berlin (wschodni)\n",
      "Βερολίνο\n",
      "Berlim\n",
      "Східний Берлін\n",
      "Berlin\n",
      "Berlin\n",
      "Δυτικό Βερολίνο\n",
      "Berlín Oriental\n",
      "برلين\n",
      "Západní Berlín\n",
      "Berlin Barat\n",
      "برلين الغربية\n",
      "Berlin\n",
      "Berlin Zachodni\n",
      "Berlino Est\n",
      "West-Berlin\n",
      "Berlim Ocidental\n",
      "Berlín Este\n",
      "Західний Берлін\n",
      "西ベルリン\n",
      "Berlin-Ouest\n",
      "东柏林\n",
      "Берлин\n",
      "東ベルリン\n",
      "West-Berlijn\n",
      "西柏林\n",
      "Ekialdeko Berlin\n",
      "ベルリン\n",
      "서베를린\n",
      "Berlino Ovest\n",
      "Ost-Berlin\n",
      "Östberlin\n",
      "Berlín\n"
     ]
    }
   ],
   "source": [
    "for s,o in g.subject_objects(RDFS.label):\n",
    "    print(o)"
   ]
  },
  {
   "cell_type": "code",
   "execution_count": 59,
   "metadata": {},
   "outputs": [
    {
     "name": "stdout",
     "output_type": "stream",
     "text": [
      "Berlin\n"
     ]
    }
   ],
   "source": [
    "population = URIRef('http://dbpedia.org/ontology/populationTotal')\n",
    "for o in g.objects(None, RDFS.label):\n",
    "    if o.language == 'en':\n",
    "        print(o)"
   ]
  },
  {
   "cell_type": "code",
   "execution_count": 60,
   "metadata": {},
   "outputs": [
    {
     "name": "stdout",
     "output_type": "stream",
     "text": [
      "3769495\n"
     ]
    }
   ],
   "source": [
    "from rdflib import Namespace\n",
    "\n",
    "DBO = Namespace('http://dbpedia.org/ontology/')\n",
    "DBR = Namespace('http://dbpedia.org/resource/')\n",
    "\n",
    "print(g.value(DBR['Berlin'],DBO['populationTotal'],None))"
   ]
  },
  {
   "cell_type": "code",
   "execution_count": null,
   "metadata": {},
   "outputs": [],
   "source": []
  }
 ],
 "metadata": {
  "kernelspec": {
   "display_name": "Python 3",
   "language": "python",
   "name": "python3"
  },
  "language_info": {
   "codemirror_mode": {
    "name": "ipython",
    "version": 3
   },
   "file_extension": ".py",
   "mimetype": "text/x-python",
   "name": "python",
   "nbconvert_exporter": "python",
   "pygments_lexer": "ipython3",
   "version": "3.8.5"
  }
 },
 "nbformat": 4,
 "nbformat_minor": 4
}
