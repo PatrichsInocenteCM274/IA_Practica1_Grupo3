{
  "nbformat": 4,
  "nbformat_minor": 0,
  "metadata": {
    "colab": {
      "name": "Digimon_minimal.ipynb",
      "provenance": [],
      "collapsed_sections": []
    },
    "kernelspec": {
      "display_name": "Python 3",
      "language": "python",
      "name": "python3"
    },
    "language_info": {
      "codemirror_mode": {
        "name": "ipython",
        "version": 3
      },
      "file_extension": ".py",
      "mimetype": "text/x-python",
      "name": "python",
      "nbconvert_exporter": "python",
      "pygments_lexer": "ipython3",
      "version": "3.8.5"
    }
  },
  "cells": [
    {
      "cell_type": "code",
      "metadata": {
        "colab": {
          "base_uri": "https://localhost:8080/"
        },
        "id": "vgtypzAjbc9X",
        "outputId": "2a6cc660-9b77-4d84-d2a5-ce8cf7f0ba25"
      },
      "source": [
        "#@title\n",
        "!pip install rdflib"
      ],
      "execution_count": 1,
      "outputs": [
        {
          "output_type": "stream",
          "text": [
            "Collecting rdflib\n",
            "\u001b[?25l  Downloading https://files.pythonhosted.org/packages/d0/6b/6454aa1db753c0f8bc265a5bd5c10b5721a4bb24160fb4faf758cf6be8a1/rdflib-5.0.0-py3-none-any.whl (231kB)\n",
            "\u001b[K     |████████████████████████████████| 235kB 2.8MB/s \n",
            "\u001b[?25hRequirement already satisfied: pyparsing in /usr/local/lib/python3.7/dist-packages (from rdflib) (2.4.7)\n",
            "Collecting isodate\n",
            "\u001b[?25l  Downloading https://files.pythonhosted.org/packages/9b/9f/b36f7774ff5ea8e428fdcfc4bb332c39ee5b9362ddd3d40d9516a55221b2/isodate-0.6.0-py2.py3-none-any.whl (45kB)\n",
            "\u001b[K     |████████████████████████████████| 51kB 4.2MB/s \n",
            "\u001b[?25hRequirement already satisfied: six in /usr/local/lib/python3.7/dist-packages (from rdflib) (1.15.0)\n",
            "Installing collected packages: isodate, rdflib\n",
            "Successfully installed isodate-0.6.0 rdflib-5.0.0\n"
          ],
          "name": "stdout"
        }
      ]
    },
    {
      "cell_type": "code",
      "metadata": {
        "id": "N54Cc8NqdDDf"
      },
      "source": [
        "from rdflib import URIRef, BNode, Literal\n",
        "from rdflib import Namespace\n",
        "from rdflib.namespace import RDF, RDFS, OWL\n",
        "from rdflib import ConjunctiveGraph\n",
        "import pprint"
      ],
      "execution_count": 2,
      "outputs": []
    },
    {
      "cell_type": "markdown",
      "metadata": {
        "id": "XYmePFk-dTuu"
      },
      "source": [
        "# Modelado del Grafo"
      ]
    },
    {
      "cell_type": "markdown",
      "metadata": {
        "id": "QiZxAqQIdhmu"
      },
      "source": [
        "Ingresando las URIs de los digimones"
      ]
    },
    {
      "cell_type": "code",
      "metadata": {
        "id": "xyY_q778d09O"
      },
      "source": [
        "Gatomon_BT3_035 = URIRef('https://example.org/Card/BT3-035')\n",
        "Gigimon_BT2_001 = URIRef('https://example.org/Card/BT2-001')\n",
        "KenIchijoji_BT3_094 = URIRef('https://example.org/Card/BT3-094')\n",
        "DarkDespair_BT3_108 = URIRef('https://example.org/Card/BT3-108')"
      ],
      "execution_count": 3,
      "outputs": []
    },
    {
      "cell_type": "code",
      "metadata": {
        "id": "f2gOWF_9sc_l"
      },
      "source": [
        "n = Namespace(\"https://example.org/\")"
      ],
      "execution_count": 4,
      "outputs": []
    },
    {
      "cell_type": "markdown",
      "metadata": {
        "id": "XnLckeDAs5i7"
      },
      "source": [
        "# características"
      ]
    },
    {
      "cell_type": "code",
      "metadata": {
        "id": "LPHKRg5stXqj"
      },
      "source": [
        "name = URIRef('https://example.org/characteristic/name')\n",
        "costo_entrada = URIRef('https://example.org/characteristic/costo_entrada')\n",
        "numero_carta = URIRef('https://example.org/characteristic/numero_carta')\n",
        "poder_digimon = URIRef('https://example.org/characteristic/poder_digimon')\n",
        "requerimiento_evolucion_nivel = URIRef('https://example.org/characteristic/requerimiento_evolucion_nivel')\n",
        "requerimiento_evolucion_costo = URIRef('https://example.org/characteristic/requerimiento_evolucion_costo')\n",
        "efecto = URIRef('https://example.org/characteristic/efecto')\n",
        "efecto_seguridad = URIRef('https://example.org/characteristic/efecto_seguridad')\n",
        "efecto_digievolucion = URIRef('https://example.org/characteristic/efecto_digievolucion')\n",
        "nivel = URIRef('https://example.org/characteristic/nivel')\n",
        "tipo=URIRef('https://example.org/characteristic/tipo')"
      ],
      "execution_count": 5,
      "outputs": []
    },
    {
      "cell_type": "code",
      "metadata": {
        "id": "moKt8OAkuqBt"
      },
      "source": [
        "grafomon = ConjunctiveGraph()"
      ],
      "execution_count": 6,
      "outputs": []
    },
    {
      "cell_type": "markdown",
      "metadata": {
        "id": "HkS-LG7husKL"
      },
      "source": [
        "Creando las subclases de clase maestra: Objeto y subclases sucesoras"
      ]
    },
    {
      "cell_type": "code",
      "metadata": {
        "id": "uK4_IZqCisxW"
      },
      "source": [
        "# General categories\n",
        "\n",
        "#colores\n",
        "grafomon.add((n.rojo, RDFS.subClassOf, n.color))\n",
        "grafomon.add((n.azul, RDFS.subClassOf, n.color))\n",
        "grafomon.add((n.amarillo, RDFS.subClassOf, n.color))\n",
        "grafomon.add((n.verde, RDFS.subClassOf, n.color))\n",
        "grafomon.add((n.negro, RDFS.subClassOf, n.color))\n",
        "grafomon.add((n.violeta, RDFS.subClassOf, n.color))\n",
        "grafomon.add((n.blanco, RDFS.subClassOf, n.color))\n",
        "#carta\n",
        "grafomon.add((n.tamer, RDFS.subClassOf, n.carta))\n",
        "grafomon.add((n.digihuevo, RDFS.subClassOf, n.carta))\n",
        "grafomon.add((n.digimon, RDFS.subClassOf, n.carta))\n",
        "grafomon.add((n.opcion, RDFS.subClassOf, n.carta))\n",
        "grafomon.add((n.color,RDFS.subClassOf,n.carta))"
      ],
      "execution_count": 7,
      "outputs": []
    },
    {
      "cell_type": "code",
      "metadata": {
        "id": "J7WiBiYJiv2W"
      },
      "source": [
        "# Sub categories\n",
        "\n",
        "#formas\n",
        "grafomon.add((n.iniciado, RDFS.subClassOf, n.digimon))\n",
        "grafomon.add((n.enEntrenamiento, RDFS.subClassOf, n.digihuevo))\n",
        "grafomon.add((n.novato, RDFS.subClassOf, n.digimon))\n",
        "grafomon.add((n.campeon, RDFS.subClassOf, n.digimon))\n",
        "grafomon.add((n.definitivo, RDFS.subClassOf, n.digimon))\n",
        "grafomon.add((n.mega, RDFS.subClassOf, n.digimon))\n",
        "\n",
        "#atributo\n",
        "grafomon.add((n.virus, RDFS.subClassOf, n.digimon))\n",
        "grafomon.add((n.vacuna, RDFS.subClassOf, n.digimon))\n",
        "grafomon.add((n.data, RDFS.subClassOf, n.digimon))\n",
        "grafomon.add((n.libre, RDFS.subClassOf, n.digimon))"
      ],
      "execution_count": 8,
      "outputs": []
    },
    {
      "cell_type": "code",
      "metadata": {
        "id": "x8P1PIkZI1qt"
      },
      "source": [
        "#nombrando Caracteristicas y Categorias\n",
        "\n",
        "grafomon.add((name, name, Literal('Nombre')))\n",
        "grafomon.add((costo_entrada, name, Literal('costo_entrada')))\n",
        "grafomon.add((numero_carta, name, Literal('numero_carta')))\n",
        "grafomon.add((poder_digimon, name, Literal('poder_digimon')))\n",
        "grafomon.add((requerimiento_evolucion_nivel, name, Literal('requerimiento_evolucion_nivel')))\n",
        "grafomon.add((requerimiento_evolucion_costo, name, Literal('requerimiento evolucion costo')))\n",
        "grafomon.add((efecto, name, Literal('efecto principal')))\n",
        "grafomon.add((efecto_seguridad, name, Literal('efecto de seguridad')))\n",
        "grafomon.add((efecto_digievolucion, name, Literal('Efecto digievolucion')))\n",
        "grafomon.add((nivel, name, Literal('Nivel')))\n",
        "grafomon.add((tipo, name, Literal('tipo')))\n",
        "grafomon.add((n.object, name, Literal('Object')))\n",
        "grafomon.add((n.carta, name, Literal('carta')))\n",
        "grafomon.add((n.rojo,name, Literal('rojo')))\n",
        "grafomon.add((n.azul, name, Literal('azul')))\n",
        "grafomon.add((n.amarillo, name, Literal('amarillo')))\n",
        "grafomon.add((n.verde, name, Literal('verde')))\n",
        "grafomon.add((n.negro, name, Literal('negro')))\n",
        "grafomon.add((n.violeta,name, Literal('violeta')))\n",
        "grafomon.add((n.blanco,name, Literal('blanco')))\n",
        "grafomon.add((n.tamer, name, Literal('tamer')))\n",
        "grafomon.add((n.digihuevo, name, Literal('digihuevo')))\n",
        "grafomon.add((n.digimon, name, Literal('digimon')))\n",
        "grafomon.add((n.opcion, name, Literal('opcion')))\n",
        "grafomon.add((n.iniciado, name, Literal('iniciado')))\n",
        "grafomon.add((n.enEntrenamiento,name, Literal('enEntrenamiento')))\n",
        "grafomon.add((n.novato, name, Literal('novato')))\n",
        "grafomon.add((n.campeon, name, Literal('campeon')))\n",
        "grafomon.add((n.definitivo,name, Literal('definitivo')))\n",
        "grafomon.add((n.mega, name, Literal('mega')))\n",
        "grafomon.add((n.virus, name, Literal('virus')))\n",
        "grafomon.add((n.vacuna,name, Literal('vacuna')))\n",
        "grafomon.add((n.data,name, Literal('data')))\n",
        "grafomon.add((n.libre,name, Literal('libre')))\n"
      ],
      "execution_count": 9,
      "outputs": []
    },
    {
      "cell_type": "code",
      "metadata": {
        "id": "MIU--ix9pjqW"
      },
      "source": [
        "#Creacion de Cartas\n",
        "\n",
        "grafomon.add((Gatomon_BT3_035,RDF.type,n.amarillo))\n",
        "grafomon.add((Gatomon_BT3_035,RDF.type,n.digimon))\n",
        "grafomon.add((Gatomon_BT3_035,RDF.type,n.campeon))\n",
        "grafomon.add((Gatomon_BT3_035,RDF.type,n.vacuna))\n",
        "grafomon.add((Gatomon_BT3_035, poder_digimon, Literal('3000')))\n",
        "grafomon.add((Gatomon_BT3_035, nivel, Literal('4')))\n",
        "grafomon.add((Gatomon_BT3_035, costo_entrada, Literal('4')))\n",
        "grafomon.add((Gatomon_BT3_035, requerimiento_evolucion_costo, Literal('2')))\n",
        "grafomon.add((Gatomon_BT3_035, numero_carta, Literal('BT3_035')))\n",
        "grafomon.add((Gatomon_BT3_035, name, Literal('Gatomon')))\n",
        "grafomon.add((Gatomon_BT3_035, requerimiento_evolucion_nivel, Literal('3')))\n",
        "grafomon.add((Gatomon_BT3_035, tipo, Literal('Bestia Divina')))\n",
        "grafomon.add((Gatomon_BT3_035, efecto, Literal('-')))\n",
        "grafomon.add((Gatomon_BT3_035, efecto_seguridad, Literal('-')))\n",
        "grafomon.add((Gatomon_BT3_035, efecto_digievolucion, Literal('[Al atacar] 1 de los Digimon de tu oponente obtiene -1000 DP por turno.')))\n",
        "\n",
        "                                                             \n",
        "grafomon.add((Gigimon_BT2_001,RDF.type,n.rojo))\n",
        "grafomon.add((Gigimon_BT2_001,RDF.type,n.digihuevo))\n",
        "grafomon.add((Gigimon_BT2_001,RDF.type,n.enEntrenamiento))\n",
        "grafomon.add((Gigimon_BT2_001, tipo, Literal('Menor')))\n",
        "grafomon.add((Gigimon_BT2_001, numero_carta, Literal('BT2_001')))\n",
        "grafomon.add((Gigimon_BT2_001, efecto_digievolucion, Literal('[Tu turno] Si bien hay 5 o más cartas en la basura de tu oponente, este Digimon obtiene +1000 DP')))\n",
        "grafomon.add((Gigimon_BT2_001, name, Literal('Gigimon')))\n",
        "\n",
        "\n",
        "grafomon.add((KenIchijoji_BT3_094,RDF.type,n.verde))\n",
        "grafomon.add((KenIchijoji_BT3_094,RDF.type,n.tamer))\n",
        "grafomon.add((KenIchijoji_BT3_094, costo_entrada, Literal('4')))\n",
        "grafomon.add((KenIchijoji_BT3_094, efecto, Literal('[Inicio de tu turno] Si tienes 2 de memoria o menos, configura tu memoria en 3. [Tu turno] Cuando uno de tus Digimon verdes o azules borra a un Digimon del oponente en la batalla y sobrevive, puedes suspender a este Domador para ganar 1 memoria')))\n",
        "grafomon.add((KenIchijoji_BT3_094, efecto_seguridad, Literal('[Seguridad] Juega esta tarjeta sin pagar su costo de memoria.')))\n",
        "grafomon.add((KenIchijoji_BT3_094, numero_carta, Literal('BT3-094')))\n",
        "grafomon.add((KenIchijoji_BT3_094, name, Literal('Ken Ichijoji')))\n",
        "\n",
        "grafomon.add((DarkDespair_BT3_108,RDF.type,n.violeta))\n",
        "grafomon.add((DarkDespair_BT3_108,RDF.type,n.opcion))\n",
        "grafomon.add((DarkDespair_BT3_108,costo_entrada, Literal('2')))\n",
        "grafomon.add((DarkDespair_BT3_108,efecto, Literal('[Principal] 1 de tus Digimon gana ＜Retaliation＞ (cuando este Digimon es eliminado después de perder una batalla, elimina el Digimon con el que estaba luchando) hasta el final del siguiente turno de tu oponente.')))\n",
        "grafomon.add((DarkDespair_BT3_108,efecto_seguridad, Literal('[Seguridad] Agrega esta tarjeta a tu mano.')))\n",
        "grafomon.add((DarkDespair_BT3_108,numero_carta, Literal('BT3-108')))\n",
        "grafomon.add((DarkDespair_BT3_108,name, Literal('Dark Despair')))\n",
        "      \n",
        "      \n",
        "\n",
        " \n",
        "              \n",
        "\n",
        "\n"
      ],
      "execution_count": 10,
      "outputs": []
    },
    {
      "cell_type": "code",
      "metadata": {
        "colab": {
          "base_uri": "https://localhost:8080/"
        },
        "id": "rPHnmm6ZkEwn",
        "outputId": "560dad8c-343b-4b9c-8a6a-44015a6e805d"
      },
      "source": [
        "print(grafomon.serialize(format='xml').decode())"
      ],
      "execution_count": 12,
      "outputs": [
        {
          "output_type": "stream",
          "text": [
            "<?xml version=\"1.0\" encoding=\"UTF-8\"?>\n",
            "<rdf:RDF\n",
            "   xmlns:ns1=\"https://example.org/characteristic/\"\n",
            "   xmlns:rdf=\"http://www.w3.org/1999/02/22-rdf-syntax-ns#\"\n",
            "   xmlns:rdfs=\"http://www.w3.org/2000/01/rdf-schema#\"\n",
            ">\n",
            "  <rdf:Description rdf:about=\"https://example.org/Card/BT3-094\">\n",
            "    <ns1:costo_entrada>4</ns1:costo_entrada>\n",
            "    <ns1:numero_carta>BT3-094</ns1:numero_carta>\n",
            "    <ns1:name>Ken Ichijoji</ns1:name>\n",
            "    <ns1:efecto>[Inicio de tu turno] Si tienes 2 de memoria o menos, configura tu memoria en 3. [Tu turno] Cuando uno de tus Digimon verdes o azules borra a un Digimon del oponente en la batalla y sobrevive, puedes suspender a este Domador para ganar 1 memoria</ns1:efecto>\n",
            "    <rdf:type rdf:resource=\"https://example.org/tamer\"/>\n",
            "    <rdf:type rdf:resource=\"https://example.org/verde\"/>\n",
            "    <ns1:efecto_seguridad>[Seguridad] Juega esta tarjeta sin pagar su costo de memoria.</ns1:efecto_seguridad>\n",
            "  </rdf:Description>\n",
            "  <rdf:Description rdf:about=\"https://example.org/azul\">\n",
            "    <rdfs:subClassOf rdf:resource=\"https://example.org/color\"/>\n",
            "    <ns1:name>azul</ns1:name>\n",
            "  </rdf:Description>\n",
            "  <rdf:Description rdf:about=\"https://example.org/libre\">\n",
            "    <rdfs:subClassOf rdf:resource=\"https://example.org/digimon\"/>\n",
            "    <ns1:name>libre</ns1:name>\n",
            "  </rdf:Description>\n",
            "  <rdf:Description rdf:about=\"https://example.org/iniciado\">\n",
            "    <rdfs:subClassOf rdf:resource=\"https://example.org/digimon\"/>\n",
            "    <ns1:name>iniciado</ns1:name>\n",
            "  </rdf:Description>\n",
            "  <rdf:Description rdf:about=\"https://example.org/digimon\">\n",
            "    <rdfs:subClassOf rdf:resource=\"https://example.org/carta\"/>\n",
            "    <ns1:name>digimon</ns1:name>\n",
            "  </rdf:Description>\n",
            "  <rdf:Description rdf:about=\"https://example.org/Card/BT3-035\">\n",
            "    <ns1:costo_entrada>4</ns1:costo_entrada>\n",
            "    <ns1:efecto_digievolucion>[Al atacar] 1 de los Digimon de tu oponente obtiene -1000 DP por turno.</ns1:efecto_digievolucion>\n",
            "    <rdf:type rdf:resource=\"https://example.org/amarillo\"/>\n",
            "    <ns1:nivel>4</ns1:nivel>\n",
            "    <ns1:requerimiento_evolucion_nivel>3</ns1:requerimiento_evolucion_nivel>\n",
            "    <ns1:tipo>Bestia Divina</ns1:tipo>\n",
            "    <rdf:type rdf:resource=\"https://example.org/campeon\"/>\n",
            "    <ns1:numero_carta>BT3_035</ns1:numero_carta>\n",
            "    <ns1:efecto>-</ns1:efecto>\n",
            "    <ns1:efecto_seguridad>-</ns1:efecto_seguridad>\n",
            "    <ns1:name>Gatomon</ns1:name>\n",
            "    <rdf:type rdf:resource=\"https://example.org/vacuna\"/>\n",
            "    <rdf:type rdf:resource=\"https://example.org/digimon\"/>\n",
            "    <ns1:poder_digimon>3000</ns1:poder_digimon>\n",
            "    <ns1:requerimiento_evolucion_costo>2</ns1:requerimiento_evolucion_costo>\n",
            "  </rdf:Description>\n",
            "  <rdf:Description rdf:about=\"https://example.org/characteristic/numero_carta\">\n",
            "    <ns1:name>numero_carta</ns1:name>\n",
            "  </rdf:Description>\n",
            "  <rdf:Description rdf:about=\"https://example.org/tamer\">\n",
            "    <rdfs:subClassOf rdf:resource=\"https://example.org/carta\"/>\n",
            "    <ns1:name>tamer</ns1:name>\n",
            "  </rdf:Description>\n",
            "  <rdf:Description rdf:about=\"https://example.org/novato\">\n",
            "    <rdfs:subClassOf rdf:resource=\"https://example.org/digimon\"/>\n",
            "    <ns1:name>novato</ns1:name>\n",
            "  </rdf:Description>\n",
            "  <rdf:Description rdf:about=\"https://example.org/definitivo\">\n",
            "    <rdfs:subClassOf rdf:resource=\"https://example.org/digimon\"/>\n",
            "    <ns1:name>definitivo</ns1:name>\n",
            "  </rdf:Description>\n",
            "  <rdf:Description rdf:about=\"https://example.org/digihuevo\">\n",
            "    <rdfs:subClassOf rdf:resource=\"https://example.org/carta\"/>\n",
            "    <ns1:name>digihuevo</ns1:name>\n",
            "  </rdf:Description>\n",
            "  <rdf:Description rdf:about=\"https://example.org/characteristic/requerimiento_evolucion_nivel\">\n",
            "    <ns1:name>requerimiento_evolucion_nivel</ns1:name>\n",
            "  </rdf:Description>\n",
            "  <rdf:Description rdf:about=\"https://example.org/Card/BT2-001\">\n",
            "    <ns1:numero_carta>BT2_001</ns1:numero_carta>\n",
            "    <ns1:efecto_digievolucion>[Tu turno] Si bien hay 5 o más cartas en la basura de tu oponente, este Digimon obtiene +1000 DP</ns1:efecto_digievolucion>\n",
            "    <rdf:type rdf:resource=\"https://example.org/digihuevo\"/>\n",
            "    <ns1:name>Gigimon</ns1:name>\n",
            "    <rdf:type rdf:resource=\"https://example.org/enEntrenamiento\"/>\n",
            "    <rdf:type rdf:resource=\"https://example.org/rojo\"/>\n",
            "    <ns1:tipo>Menor</ns1:tipo>\n",
            "  </rdf:Description>\n",
            "  <rdf:Description rdf:about=\"https://example.org/mega\">\n",
            "    <ns1:name>mega</ns1:name>\n",
            "    <rdfs:subClassOf rdf:resource=\"https://example.org/digimon\"/>\n",
            "  </rdf:Description>\n",
            "  <rdf:Description rdf:about=\"https://example.org/characteristic/efecto_digievolucion\">\n",
            "    <ns1:name>Efecto digievolucion</ns1:name>\n",
            "  </rdf:Description>\n",
            "  <rdf:Description rdf:about=\"https://example.org/characteristic/tipo\">\n",
            "    <ns1:name>tipo</ns1:name>\n",
            "  </rdf:Description>\n",
            "  <rdf:Description rdf:about=\"https://example.org/characteristic/efecto\">\n",
            "    <ns1:name>efecto principal</ns1:name>\n",
            "  </rdf:Description>\n",
            "  <rdf:Description rdf:about=\"https://example.org/carta\">\n",
            "    <ns1:name>carta</ns1:name>\n",
            "  </rdf:Description>\n",
            "  <rdf:Description rdf:about=\"https://example.org/characteristic/costo_entrada\">\n",
            "    <ns1:name>costo_entrada</ns1:name>\n",
            "  </rdf:Description>\n",
            "  <rdf:Description rdf:about=\"https://example.org/vacuna\">\n",
            "    <rdfs:subClassOf rdf:resource=\"https://example.org/digimon\"/>\n",
            "    <ns1:name>vacuna</ns1:name>\n",
            "  </rdf:Description>\n",
            "  <rdf:Description rdf:about=\"https://example.org/Card/BT3-108\">\n",
            "    <rdf:type rdf:resource=\"https://example.org/opcion\"/>\n",
            "    <rdf:type rdf:resource=\"https://example.org/violeta\"/>\n",
            "    <ns1:efecto>[Principal] 1 de tus Digimon gana ＜Retaliation＞ (cuando este Digimon es eliminado después de perder una batalla, elimina el Digimon con el que estaba luchando) hasta el final del siguiente turno de tu oponente.</ns1:efecto>\n",
            "    <ns1:name>Dark Despair</ns1:name>\n",
            "    <ns1:costo_entrada>2</ns1:costo_entrada>\n",
            "    <ns1:numero_carta>BT3-108</ns1:numero_carta>\n",
            "    <ns1:efecto_seguridad>[Seguridad] Agrega esta tarjeta a tu mano.</ns1:efecto_seguridad>\n",
            "  </rdf:Description>\n",
            "  <rdf:Description rdf:about=\"https://example.org/object\">\n",
            "    <ns1:name>Object</ns1:name>\n",
            "  </rdf:Description>\n",
            "  <rdf:Description rdf:about=\"https://example.org/violeta\">\n",
            "    <ns1:name>violeta</ns1:name>\n",
            "    <rdfs:subClassOf rdf:resource=\"https://example.org/color\"/>\n",
            "  </rdf:Description>\n",
            "  <rdf:Description rdf:about=\"https://example.org/rojo\">\n",
            "    <rdfs:subClassOf rdf:resource=\"https://example.org/color\"/>\n",
            "    <ns1:name>rojo</ns1:name>\n",
            "  </rdf:Description>\n",
            "  <rdf:Description rdf:about=\"https://example.org/data\">\n",
            "    <ns1:name>data</ns1:name>\n",
            "    <rdfs:subClassOf rdf:resource=\"https://example.org/digimon\"/>\n",
            "  </rdf:Description>\n",
            "  <rdf:Description rdf:about=\"https://example.org/blanco\">\n",
            "    <rdfs:subClassOf rdf:resource=\"https://example.org/color\"/>\n",
            "    <ns1:name>blanco</ns1:name>\n",
            "  </rdf:Description>\n",
            "  <rdf:Description rdf:about=\"https://example.org/campeon\">\n",
            "    <rdfs:subClassOf rdf:resource=\"https://example.org/digimon\"/>\n",
            "    <ns1:name>campeon</ns1:name>\n",
            "  </rdf:Description>\n",
            "  <rdf:Description rdf:about=\"https://example.org/amarillo\">\n",
            "    <rdfs:subClassOf rdf:resource=\"https://example.org/color\"/>\n",
            "    <ns1:name>amarillo</ns1:name>\n",
            "  </rdf:Description>\n",
            "  <rdf:Description rdf:about=\"https://example.org/negro\">\n",
            "    <rdfs:subClassOf rdf:resource=\"https://example.org/color\"/>\n",
            "    <ns1:name>negro</ns1:name>\n",
            "  </rdf:Description>\n",
            "  <rdf:Description rdf:about=\"https://example.org/characteristic/name\">\n",
            "    <ns1:name>Nombre</ns1:name>\n",
            "  </rdf:Description>\n",
            "  <rdf:Description rdf:about=\"https://example.org/verde\">\n",
            "    <rdfs:subClassOf rdf:resource=\"https://example.org/color\"/>\n",
            "    <ns1:name>verde</ns1:name>\n",
            "  </rdf:Description>\n",
            "  <rdf:Description rdf:about=\"https://example.org/opcion\">\n",
            "    <ns1:name>opcion</ns1:name>\n",
            "    <rdfs:subClassOf rdf:resource=\"https://example.org/carta\"/>\n",
            "  </rdf:Description>\n",
            "  <rdf:Description rdf:about=\"https://example.org/virus\">\n",
            "    <rdfs:subClassOf rdf:resource=\"https://example.org/digimon\"/>\n",
            "    <ns1:name>virus</ns1:name>\n",
            "  </rdf:Description>\n",
            "  <rdf:Description rdf:about=\"https://example.org/characteristic/requerimiento_evolucion_costo\">\n",
            "    <ns1:name>requerimiento evolucion costo</ns1:name>\n",
            "  </rdf:Description>\n",
            "  <rdf:Description rdf:about=\"https://example.org/enEntrenamiento\">\n",
            "    <rdfs:subClassOf rdf:resource=\"https://example.org/digihuevo\"/>\n",
            "    <ns1:name>enEntrenamiento</ns1:name>\n",
            "  </rdf:Description>\n",
            "  <rdf:Description rdf:about=\"https://example.org/color\">\n",
            "    <rdfs:subClassOf rdf:resource=\"https://example.org/carta\"/>\n",
            "  </rdf:Description>\n",
            "  <rdf:Description rdf:about=\"https://example.org/characteristic/nivel\">\n",
            "    <ns1:name>Nivel</ns1:name>\n",
            "  </rdf:Description>\n",
            "  <rdf:Description rdf:about=\"https://example.org/characteristic/poder_digimon\">\n",
            "    <ns1:name>poder_digimon</ns1:name>\n",
            "  </rdf:Description>\n",
            "  <rdf:Description rdf:about=\"https://example.org/characteristic/efecto_seguridad\">\n",
            "    <ns1:name>efecto de seguridad</ns1:name>\n",
            "  </rdf:Description>\n",
            "</rdf:RDF>\n",
            "\n"
          ],
          "name": "stdout"
        }
      ]
    },
    {
      "cell_type": "code",
      "metadata": {
        "id": "GUNTklhjyNeU"
      },
      "source": [
        "grafomon.serialize(destination='digimon.rdf', format='xml')"
      ],
      "execution_count": 13,
      "outputs": []
    },
    {
      "cell_type": "code",
      "metadata": {
        "id": "2dZzdkSCzvzr",
        "colab": {
          "base_uri": "https://localhost:8080/"
        },
        "outputId": "65be9c99-5ccd-4465-e326-b2d0f9353b51"
      },
      "source": [
        "!pip install ontospy"
      ],
      "execution_count": 15,
      "outputs": [
        {
          "output_type": "stream",
          "text": [
            "Collecting ontospy\n",
            "\u001b[?25l  Downloading https://files.pythonhosted.org/packages/b4/99/fae085e15dd328f2b6edec4cfc1ad434a4f96d37f7a79b74591e371d23e7/ontospy-1.9.8.3-py2.py3-none-any.whl (7.6MB)\n",
            "\u001b[K     |████████████████████████████████| 7.6MB 3.3MB/s \n",
            "\u001b[?25hRequirement already satisfied: requests in /usr/local/lib/python3.7/dist-packages (from ontospy) (2.23.0)\n",
            "Collecting rdflib-jsonld\n",
            "\u001b[?25l  Downloading https://files.pythonhosted.org/packages/f5/17/45e137be0d93b70827fe5529c0400731344a978bc792193d7d9152e6dbe4/rdflib-jsonld-0.5.0.tar.gz (55kB)\n",
            "\u001b[K     |████████████████████████████████| 61kB 6.2MB/s \n",
            "\u001b[?25hRequirement already satisfied: click in /usr/local/lib/python3.7/dist-packages (from ontospy) (7.1.2)\n",
            "Collecting pyfiglet\n",
            "\u001b[?25l  Downloading https://files.pythonhosted.org/packages/33/07/fcfdd7a2872f5b348953de35acce1544dab0c1e8368dca54279b1cde5c15/pyfiglet-0.8.post1-py2.py3-none-any.whl (865kB)\n",
            "\u001b[K     |████████████████████████████████| 870kB 39.2MB/s \n",
            "\u001b[?25hCollecting keepalive\n",
            "  Downloading https://files.pythonhosted.org/packages/6a/11/8eaf21d74b06cfabd42ca9d2b7b216e071faa416753faeb3322f1863f585/keepalive-0.5.tar.gz\n",
            "Collecting SPARQLWrapper\n",
            "  Downloading https://files.pythonhosted.org/packages/00/9b/443fbe06996c080ee9c1f01b04e2f683b2b07e149905f33a2397ee3b80a2/SPARQLWrapper-1.8.5-py3-none-any.whl\n",
            "Requirement already satisfied: html5lib in /usr/local/lib/python3.7/dist-packages (from ontospy) (1.0.1)\n",
            "Requirement already satisfied: pyparsing in /usr/local/lib/python3.7/dist-packages (from ontospy) (2.4.7)\n",
            "Requirement already satisfied: rdflib in /usr/local/lib/python3.7/dist-packages (from ontospy) (5.0.0)\n",
            "Collecting colorama\n",
            "  Downloading https://files.pythonhosted.org/packages/44/98/5b86278fbbf250d239ae0ecb724f8572af1c91f4a11edf4d36a206189440/colorama-0.4.4-py2.py3-none-any.whl\n",
            "Requirement already satisfied: idna<3,>=2.5 in /usr/local/lib/python3.7/dist-packages (from requests->ontospy) (2.10)\n",
            "Requirement already satisfied: certifi>=2017.4.17 in /usr/local/lib/python3.7/dist-packages (from requests->ontospy) (2020.12.5)\n",
            "Requirement already satisfied: urllib3!=1.25.0,!=1.25.1,<1.26,>=1.21.1 in /usr/local/lib/python3.7/dist-packages (from requests->ontospy) (1.24.3)\n",
            "Requirement already satisfied: chardet<4,>=3.0.2 in /usr/local/lib/python3.7/dist-packages (from requests->ontospy) (3.0.4)\n",
            "Requirement already satisfied: six>=1.9 in /usr/local/lib/python3.7/dist-packages (from html5lib->ontospy) (1.15.0)\n",
            "Requirement already satisfied: webencodings in /usr/local/lib/python3.7/dist-packages (from html5lib->ontospy) (0.5.1)\n",
            "Requirement already satisfied: isodate in /usr/local/lib/python3.7/dist-packages (from rdflib->ontospy) (0.6.0)\n",
            "Building wheels for collected packages: rdflib-jsonld, keepalive\n",
            "  Building wheel for rdflib-jsonld (setup.py) ... \u001b[?25l\u001b[?25hdone\n",
            "  Created wheel for rdflib-jsonld: filename=rdflib_jsonld-0.5.0-py2.py3-none-any.whl size=15348 sha256=302d41d4d2ed3caea6f60e96d77edb22d9838ee10db2a539085b97f3d38d75af\n",
            "  Stored in directory: /root/.cache/pip/wheels/8d/e4/7f/9ebcb3e400c694e645c3adba40ef3e9bda78384ac3b9b0d13d\n",
            "  Building wheel for keepalive (setup.py) ... \u001b[?25l\u001b[?25hdone\n",
            "  Created wheel for keepalive: filename=keepalive-0.5-cp37-none-any.whl size=8937 sha256=1c2c688db9fb834f403e3e673599c8af8067498ec95f18f3466bce983948ae8e\n",
            "  Stored in directory: /root/.cache/pip/wheels/dc/56/d1/1f5ce7b1976ed0030f39e69f33af490745441216b762be9a69\n",
            "Successfully built rdflib-jsonld keepalive\n",
            "Installing collected packages: rdflib-jsonld, pyfiglet, keepalive, SPARQLWrapper, colorama, ontospy\n",
            "Successfully installed SPARQLWrapper-1.8.5 colorama-0.4.4 keepalive-0.5 ontospy-1.9.8.3 pyfiglet-0.8.post1 rdflib-jsonld-0.5.0\n"
          ],
          "name": "stdout"
        }
      ]
    },
    {
      "cell_type": "code",
      "metadata": {
        "id": "24uYlLr_zqsQ",
        "colab": {
          "base_uri": "https://localhost:8080/"
        },
        "outputId": "cf9d5b51-2dea-4c5b-929e-a08b9ca0ae0d"
      },
      "source": [
        "import ontospy\n",
        "model = ontospy.Ontospy(\"digimon.rdf\", verbose=True)"
      ],
      "execution_count": 16,
      "outputs": [
        {
          "output_type": "stream",
          "text": [
            "\u001b[32mReading: <digimon.rdf>\u001b[0m\n",
            ".. trying rdf serialization: <xml>\u001b[0m\n",
            "\u001b[1m..... success!\u001b[0m\n",
            "\u001b[37m----------\n",
            "Loaded 92 triples.\n",
            "----------\u001b[0m\n",
            "\u001b[32mRDF sources loaded successfully: 1 of 1.\u001b[0m\n",
            "\u001b[37m..... 'digimon.rdf'\u001b[0m\n",
            "\u001b[37m----------\u001b[0m\n"
          ],
          "name": "stdout"
        },
        {
          "output_type": "stream",
          "text": [
            "\u001b[32mScanning entities...\u001b[0m\n",
            "\u001b[2m----------\u001b[0m\n",
            "\u001b[2mOntologies.........: 0\u001b[0m\n",
            "\u001b[2mClasses............: 23\u001b[0m\n",
            "\u001b[2mProperties.........: 0\u001b[0m\n",
            "\u001b[2m..annotation.......: 0\u001b[0m\n",
            "\u001b[2m..datatype.........: 0\u001b[0m\n",
            "\u001b[2m..object...........: 0\u001b[0m\n",
            "\u001b[2mConcepts (SKOS)....: 0\u001b[0m\n",
            "\u001b[2mShapes (SHACL).....: 0\u001b[0m\n",
            "\u001b[2m----------\u001b[0m\n"
          ],
          "name": "stderr"
        }
      ]
    },
    {
      "cell_type": "code",
      "metadata": {
        "id": "NKrpwM-eOV5y",
        "colab": {
          "base_uri": "https://localhost:8080/"
        },
        "outputId": "1b5d71f7-187f-461c-ed6e-aecb81095e46"
      },
      "source": [
        "print(model.all_classes)"
      ],
      "execution_count": 17,
      "outputs": [
        {
          "output_type": "stream",
          "text": [
            "[<Class *https://example.org/amarillo*>, <Class *https://example.org/azul*>, <Class *https://example.org/blanco*>, <Class *https://example.org/campeon*>, <Class *https://example.org/carta*>, <Class *https://example.org/color*>, <Class *https://example.org/data*>, <Class *https://example.org/definitivo*>, <Class *https://example.org/digihuevo*>, <Class *https://example.org/digimon*>, <Class *https://example.org/enEntrenamiento*>, <Class *https://example.org/iniciado*>, <Class *https://example.org/libre*>, <Class *https://example.org/mega*>, <Class *https://example.org/negro*>, <Class *https://example.org/novato*>, <Class *https://example.org/opcion*>, <Class *https://example.org/rojo*>, <Class *https://example.org/tamer*>, <Class *https://example.org/vacuna*>, <Class *https://example.org/verde*>, <Class *https://example.org/violeta*>, <Class *https://example.org/virus*>]\n"
          ],
          "name": "stdout"
        }
      ]
    },
    {
      "cell_type": "code",
      "metadata": {
        "id": "K16Iqa76Pc5Y",
        "colab": {
          "base_uri": "https://localhost:8080/"
        },
        "outputId": "db53f30b-bd8e-4535-8795-d913faf57bac"
      },
      "source": [
        "print(model.printClassTree())"
      ],
      "execution_count": 18,
      "outputs": [
        {
          "output_type": "stream",
          "text": [
            "https://example.org/carta\u001b[0m\n",
            "----https://example.org/color\u001b[0m\n",
            "--------https://example.org/amarillo\u001b[0m\n",
            "--------https://example.org/azul\u001b[0m\n",
            "--------https://example.org/blanco\u001b[0m\n",
            "--------https://example.org/negro\u001b[0m\n",
            "--------https://example.org/rojo\u001b[0m\n",
            "--------https://example.org/verde\u001b[0m\n",
            "--------https://example.org/violeta\u001b[0m\n",
            "----https://example.org/digihuevo\u001b[0m\n",
            "--------https://example.org/enEntrenamiento\u001b[0m\n",
            "----https://example.org/digimon\u001b[0m\n",
            "--------https://example.org/campeon\u001b[0m\n",
            "--------https://example.org/data\u001b[0m\n",
            "--------https://example.org/definitivo\u001b[0m\n",
            "--------https://example.org/iniciado\u001b[0m\n",
            "--------https://example.org/libre\u001b[0m\n",
            "--------https://example.org/mega\u001b[0m\n",
            "--------https://example.org/novato\u001b[0m\n",
            "--------https://example.org/vacuna\u001b[0m\n",
            "--------https://example.org/virus\u001b[0m\n",
            "----https://example.org/opcion\u001b[0m\n",
            "----https://example.org/tamer\u001b[0m\n",
            "None\n"
          ],
          "name": "stdout"
        }
      ]
    },
    {
      "cell_type": "code",
      "metadata": {
        "id": "7eLuoYzCPfzf",
        "colab": {
          "base_uri": "https://localhost:8080/"
        },
        "outputId": "ce4bd711-c0dc-44f4-f12a-a449b586ddb9"
      },
      "source": [
        "print(model.toplayer_classes)"
      ],
      "execution_count": 19,
      "outputs": [
        {
          "output_type": "stream",
          "text": [
            "[<Class *https://example.org/carta*>]\n"
          ],
          "name": "stdout"
        }
      ]
    }
  ]
}