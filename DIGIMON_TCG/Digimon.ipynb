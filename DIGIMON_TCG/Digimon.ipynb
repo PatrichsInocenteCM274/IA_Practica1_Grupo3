{
 "cells": [
  {
   "cell_type": "code",
   "execution_count": null,
   "metadata": {
    "colab": {
     "base_uri": "https://localhost:8080/"
    },
    "id": "vgtypzAjbc9X",
    "outputId": "fa48f635-9d72-4c50-839d-15a0237cb75f"
   },
   "outputs": [
    {
     "name": "stdout",
     "output_type": "stream",
     "text": [
      "Requirement already satisfied: rdflib in /usr/local/lib/python3.7/dist-packages (5.0.0)\n",
      "Requirement already satisfied: six in /usr/local/lib/python3.7/dist-packages (from rdflib) (1.15.0)\n",
      "Requirement already satisfied: isodate in /usr/local/lib/python3.7/dist-packages (from rdflib) (0.6.0)\n",
      "Requirement already satisfied: pyparsing in /usr/local/lib/python3.7/dist-packages (from rdflib) (2.4.7)\n"
     ]
    }
   ],
   "source": [
    "#@title\n",
    "!pip install rdflib"
   ]
  },
  {
   "cell_type": "code",
   "execution_count": null,
   "metadata": {
    "id": "N54Cc8NqdDDf"
   },
   "outputs": [],
   "source": [
    "from rdflib import URIRef, BNode, Literal\n",
    "from rdflib import Namespace\n",
    "from rdflib.namespace import RDF, RDFS\n",
    "from rdflib import ConjunctiveGraph\n",
    "import pprint"
   ]
  },
  {
   "cell_type": "markdown",
   "metadata": {
    "id": "XYmePFk-dTuu"
   },
   "source": [
    "# Modelado del Grafo"
   ]
  },
  {
   "cell_type": "markdown",
   "metadata": {
    "id": "QiZxAqQIdhmu"
   },
   "source": [
    "Ingresando las URIs de los digimones"
   ]
  },
  {
   "cell_type": "code",
   "execution_count": null,
   "metadata": {
    "id": "xyY_q778d09O"
   },
   "outputs": [],
   "source": [
    "Gigimon_BT2_001 = URIRef('https://example.org/Card/BT2-001')\n",
    "DemiVeemon_BT2_002 = URIRef('https://example.org/Card/BT2-002')\n",
    "Nyaromon_BT2_003 = URIRef('https://example.org/Card/BT2-003')\n",
    "Argomon_BT2_004 = URIRef('https://example.org/Card/BT2-004')\n",
    "Poromon_BT3_001 = URIRef('https://example.org/Card/BT3-001')\n",
    "DemiVeemon_BT3_002 = URIRef('https://example.org/Card/BT3-002')\n",
    "Upamon_BT3_003 = URIRef('https://example.org/Card/BT3-003')\n",
    "Minomon_BT3_004 = URIRef('https://example.org/Card/BT3-004')\n",
    "Kakkinmon_BT3_005 = URIRef('https://example.org/Card/BT3-005')\n",
    "DemiMeramon_BT3_006 = URIRef('https://example.org/Card/BT3-006')\n",
    "GranKuwagamon_BT1_083 = URIRef('https://example.org/Card/BT1-083')\n",
    "Biyomon_BT2_010 = URIRef('https://example.org/Card/BT2-010')\n",
    "Vorvomon_BT2_011 = URIRef('https://example.org/Card/BT2-011')\n",
    "Birdramon_BT2_012 = URIRef('https://example.org/Card/BT2-012')\n",
    "Lavorvomon_BT2_014 = URIRef('https://example.org/Card/BT2-014')\n",
    "Garudamon_BT2_015 = URIRef('https://example.org/Card/BT2-015')\n",
    "Lavogaritamon_BT2_016 = URIRef('https://example.org/Card/BT2-016')\n",
    "Phoenixmon_BT2_019 = URIRef('https://example.org/Card/BT2-019')\n",
    "Veemon_BT2_021 = URIRef('https://example.org/Card/BT2-021')\n",
    "Betamon_BT2_022 = URIRef('https://example.org/Card/BT2-022')\n",
    "Gomamon_BT2_023 = URIRef('https://example.org/Card/BT2-023')\n",
    "Seadramon_BT2_024 = URIRef('https://example.org/Card/BT2-024')\n",
    "Ikkakumon_BT2_025 = URIRef('https://example.org/Card/BT2-025')\n",
    "Veedramon_BT2_026 = URIRef('https://example.org/Card/BT2-026')\n",
    "Zudomon_BT2_027 = URIRef('https://example.org/Card/BT2-027')\n",
    "AeroVeedramon_BT2_028 = URIRef('https://example.org/Card/BT2-028')\n",
    "MegaSeadramon_BT2_029 = URIRef('https://example.org/Card/BT2-029')\n",
    "Vikemon_BT2_031 = URIRef('https://example.org/Card/BT2-031')\n",
    "UlforceVeedramon_BT2_032 = URIRef('https://example.org/Card/BT2-032')\n",
    "Agumon_BT2_033 = URIRef('https://example.org/Card/BT2-033')\n",
    "Salamon_BT2_034 = URIRef('https://example.org/Card/BT2-034')\n",
    "GeoGreymon_BT2_035 = URIRef('https://example.org/Card/BT2-035')\n",
    "Gatomon_BT2_036 = URIRef('https://example.org/Card/BT2-036')\n",
    "Angewomon_BT2_037 = URIRef('https://example.org/Card/BT2-037')\n",
    "RizeGreymon_BT2_038 = URIRef('https://example.org/Card/BT2-038')\n",
    "Ophanimon_BT2_040 = URIRef('https://example.org/Card/BT2-040')\n",
    "ShineGreymon_BT2_041 = URIRef('https://example.org/Card/BT2-041')\n",
    "GloriousBurst_BT2_099 = URIRef('https://example.org/Card/BT2-099')\n",
    "PuppetPummel_BT2_100 = URIRef('https://example.org/Card/BT2-100')\n",
    "CherryBlast_BT2_101 = URIRef('https://example.org/Card/BT2-101')\n",
    "ADelicatePlan_BT3_097 = URIRef('https://example.org/Card/BT3-097')\n",
    "PlasmaStake_BT3_098 = URIRef('https://example.org/Card/BT3-098')\n",
    "WeHavetoStopFighting_BT3_099 = URIRef('https://example.org/Card/BT3-099')\n",
    "DeathParadeBlaster_BT3_100 = URIRef('https://example.org/Card/BT3-100')\n",
    "Bifrost_BT3_101 = URIRef('https://example.org/Card/BT3-101')\n",
    "CodeCracking_BT3_102 = URIRef('https://example.org/Card/BT3-102')\n",
    "HiddenPotentialDiscovered_BT3_103 = URIRef('https://example.org/Card/BT3-103')\n",
    "PositronLaser_BT3_104 = URIRef('https://example.org/Card/BT3-104')\n",
    "BreathOfTheGods_BT3_105 = URIRef('https://example.org/Card/BT3-105')\n",
    "BeastCyclone_BT3_106 = URIRef('https://example.org/Card/BT3-106')\n",
    "DarkDespair_BT3_108 = URIRef('https://example.org/Card/BT3-108')\n",
    "Necrophobia_BT3_110 = URIRef('https://example.org/Card/BT3-110')\n",
    "Craniamon_BT3_075 = URIRef('https://example.org/Card/BT3-075')\n",
    "Candlemon_BT3_076 = URIRef('https://example.org/Card/BT3-076')\n",
    "Gazimon_BT3_077 = URIRef('https://example.org/Card/BT3-077')\n",
    "Shamanmon_BT3_078 = URIRef('https://example.org/Card/BT3-078')\n",
    "Saberdramon_BT3_080 = URIRef('https://example.org/Card/BT3-080')\n",
    "BlackGatomon_BT3_082 = URIRef('https://example.org/Card/BT3-082')\n",
    "Meramon_BT3_083 = URIRef('https://example.org/Card/BT3-083')\n",
    "SkullMeramon_BT3_085 = URIRef('https://example.org/Card/BT3-085')\n",
    "Arukenimon_BT3_086 = URIRef('https://example.org/Card/BT3-086')\n",
    "Mummymon_BT3_087 = URIRef('https://example.org/Card/BT3-087')\n",
    "LadyDevimon_BT3_088 = URIRef('https://example.org/Card/BT3-088')\n",
    "Mastemon_BT3_090 = URIRef('https://example.org/Card/BT3-090')\n",
    "MaloMyotismon_BT3_092 = URIRef('https://example.org/Card/BT3-092')\n",
    "ImperialdramonDragonMode_BT3_111 = URIRef('https://example.org/Card/BT3-111')\n",
    "OmnimonAlter_S_BT3_112 = URIRef('https://example.org/Card/BT3-112')\n",
    "RinaShinomiya_BT2_086= URIRef('https://example.org/Card/BT2-086')\n",
    "DavisMotomiya_BT3_093 = URIRef('https://example.org/Card/BT3-093')\n",
    "KenIchijoji_BT3_094 = URIRef('https://example.org/Card/BT3-094')\n",
    "JoeKido_BT3_095 = URIRef('https://example.org/Card/BT3-095')\n",
    "MimiTachikawa_BT3_096 = URIRef('https://example.org/Card/BT3-096')\n",
    "ScrapClaw_BT1_091 = URIRef('https://example.org/Card/BT1-091')\n",
    "BraveShield_BT1_095 = URIRef('https://example.org/Card/BT1-095')\n",
    "Argomon_BT2_042 = URIRef('https://example.org/Card/BT2-042')\n",
    "Argomon_BT2_045 = URIRef('https://example.org/Card/BT2-045')\n",
    "Argomon_BT2_047 = URIRef('https://example.org/Card/BT2-047')\n",
    "Argomon_BT2_050 = URIRef('https://example.org/Card/BT2-050')\n",
    "BlackWarGreymon_BT2_112 = URIRef('https://example.org/Card/BT2-112')\n",
    "Agumon_BT3_007 = URIRef('https://example.org/Card/BT3-007')\n",
    "Zubamon_BT3_008 = URIRef('https://example.org/Card/BT3-008')\n",
    "Hawkmon_BT3_009 = URIRef('https://example.org/Card/BT3-009')\n",
    "ZubaEagermon_BT3_010 = URIRef('https://example.org/Card/BT3-010')\n",
    "Greymon_BT3_011 = URIRef('https://example.org/Card/BT3-011')\n",
    "Aquilamon_BT3_012 = URIRef('https://example.org/Card/BT3-012')\n",
    "Duramon_BT3_013 = URIRef('https://example.org/Card/BT3-013')\n",
    "Silphymon_BT3_014 = URIRef('https://example.org/Card/BT3-014')\n",
    "MetalGreymon_BT3_015 = URIRef('https://example.org/Card/BT3-015')\n",
    "Durandamon_BT3_016 = URIRef('https://example.org/Card/BT3-016')\n",
    "Valkyrimon_BT3_017 = URIRef('https://example.org/Card/BT3-017')\n",
    "BlitzGreymon_BT3_018 = URIRef('https://example.org/Card/BT3-018')\n",
    "RagnaLoardmon_BT3_019 = URIRef('https://example.org/Card/BT3-019')\n",
    "Veemon_BT3_021 = URIRef('https://example.org/Card/BT3-021')\n",
    "Penguinmon_BT3_022 = URIRef('https://example.org/Card/BT3-022')\n",
    "Angemon_BT3_023 = URIRef('https://example.org/Card/BT3-023')\n",
    "Airdramon_BT3_024 = URIRef('https://example.org/Card/BT3-024')\n",
    "ExVeemon_BT3_025 = URIRef('https://example.org/Card/BT3-025')\n",
    "MagnaAngemon_BT3_026 = URIRef('https://example.org/Card/BT3-026')\n",
    "Paildramon_BT3_027 = URIRef('https://example.org/Card/BT3-027')\n",
    "Bastemon_BT3_028 = URIRef('https://example.org/Card/BT3-028')\n",
    "Goldramon_BT3_029 = URIRef('https://example.org/Card/BT3-029')\n",
    "Imperialdramon_Dragon_Mode_BT3_031 = URIRef('https://example.org/Card/BT3-031')\n",
    "Armadillomon_BT3_032 = URIRef('https://example.org/Card/BT3-032')\n",
    "Salamon_BT3_033 = URIRef('https://example.org/Card/BT3-033')\n",
    "Lopmon_BT3_034 = URIRef('https://example.org/Card/BT3-034')\n",
    "Gatomon_BT3_035 = URIRef('https://example.org/Card/BT3-035')\n",
    "Goldramon_BT3_029 = URIRef('https://example.org/Card/BT3-029')\n",
    "Goldramon_BT3_029 = URIRef('https://example.org/Card/BT3-029')\n",
    "Goldramon_BT3_029 = URIRef('https://example.org/Card/BT3-029')\n",
    "Ankylomon_BT3_036 = URIRef('https://example.org/Card/BT3-036')\n",
    "Turuiemon_BT3_037 = URIRef('https://example.org/Card/BT3-037')\n",
    "Antylamon_BT3_038 = URIRef('https://example.org/Card/BT3-038')\n",
    "Angewomon_BT3_039 = URIRef('https://example.org/Card/BT3-039')\n",
    "Shakkoumon_BT3_040 = URIRef('https://example.org/Card/BT3-040')\n",
    "Cherubimon_BT3_041 = URIRef('https://example.org/Card/BT3-041')\n",
    "ClavisAngemon_BT3_042 = URIRef('https://example.org/Card/BT3-042')\n",
    "Aruraumon_BT3_044 = URIRef('https://example.org/Card/BT3-044')\n",
    "Kunemon_BT3_045 = URIRef('https://example.org/Card/BT3-045')\n",
    "Terriermon_BT3_046 = URIRef('https://example.org/Card/BT3-046')\n",
    "Wormmon_BT3_047 = URIRef('https://example.org/Card/BT3-047')\n",
    "Gargomon_BT3_048 = URIRef('https://example.org/Card/BT3-048')\n",
    "Flymon_BT3_049 = URIRef('https://example.org/Card/BT3-049')\n",
    "Stingmon_BT3_050 = URIRef('https://example.org/Card/BT3-050')\n",
    "Dokugumon_BT3_051 = URIRef('https://example.org/Card/BT3-051')\n",
    "Rapidmon_BT3_052 = URIRef('https://example.org/Card/BT3-052')\n",
    "JewelBeemon_BT3_053 = URIRef('https://example.org/Card/BT3-053')\n",
    "Blossomon_BT3_054 = URIRef('https://example.org/Card/BT3-054')\n",
    "Dinobeemon_BT3_055 = URIRef('https://example.org/Card/BT3-055')\n",
    "Ceresmon_BT3_056 = URIRef('https://example.org/Card/BT3-056')\n",
    "MegaGargomon_BT3_057 = URIRef('https://example.org/Card/BT3-057')\n",
    "BanchoStingmon_BT3_058 = URIRef('https://example.org/Card/BT3-058')\n",
    "Commandramon_BT3_059 = URIRef('https://example.org/Card/BT3-059')\n",
    "Psychemon_BT3_060 = URIRef('https://example.org/Card/BT3-060')\n",
    "Ludomon_BT3_062 = URIRef('https://example.org/Card/BT3-062')\n",
    "Sukamon_BT3_063 = URIRef('https://example.org/Card/BT3-063')\n",
    "TiaLudomon_BT3_064 = URIRef('https://example.org/Card/BT3-064')\n",
    "Gururumon_BT3_065 = URIRef('https://example.org/Card/BT3-065')\n",
    "Clockmon_BT3_066 = URIRef('https://example.org/Card/BT3-066')\n",
    "Tankmon_BT3_067 = URIRef('https://example.org/Card/BT3-067')\n",
    "Giromon_BT3_068 = URIRef('https://example.org/Card/BT3-068')\n",
    "RaijiLudomon_BT3_069 = URIRef('https://example.org/Card/BT3-069')\n",
    "Etemon_BT3_070 = URIRef('https://example.org/Card/BT3-070')\n",
    "MetalMamemon_BT3_071 = URIRef('https://example.org/Card/BT3-071')\n",
    "BryweLudramon_BT3_072 = URIRef('https://example.org/Card/BT3-072')\n",
    "CresGarurumon_BT3_073 = URIRef('https://example.org/Card/BT3-073')\n",
    "GraceCrossFreezer_BT1_100 = URIRef('https://example.org/Card/BT1-100')\n",
    "HowlingCrusher_BT1_101 = URIRef('https://example.org/Card/BT1-101')\n",
    "TiaLudomon_BT1_102 = URIRef('https://example.org/Card/BT1-102')\n",
    "Testament_BT1_103 = URIRef('https://example.org/Card/BT1-103')\n",
    "HolyWave_BT1_107 = URIRef('https://example.org/Card/BT1-107')\n",
    "VolcanicFlare_BT2_091 = URIRef('https://example.org/Card/BT2-091')\n",
    "ArcticBlizzard_BT2_094 = URIRef('https://example.org/Card/BT2-094')\n",
    "TheRayOfVictory_BT2_096 = URIRef('https://example.org/Card/BT2-096')\n",
    "LightningPaw_BT2_097 = URIRef('https://example.org/Card/BT2-097')\n",
    "EDENsJavelin_BT2_098 = URIRef('https://example.org/Card/BT2-098')"
   ]
  },
  {
   "cell_type": "code",
   "execution_count": null,
   "metadata": {
    "id": "f2gOWF_9sc_l"
   },
   "outputs": [],
   "source": [
    "n = Namespace(\"https://example.org/\")"
   ]
  },
  {
   "cell_type": "markdown",
   "metadata": {
    "id": "XnLckeDAs5i7"
   },
   "source": [
    "# características"
   ]
  },
  {
   "cell_type": "code",
   "execution_count": null,
   "metadata": {
    "id": "LPHKRg5stXqj"
   },
   "outputs": [],
   "source": [
    "nombre = URIRef('https://example.org/characteristic:nombre')\n",
    "costo_entrada = URIRef('https://example.org/characteristic:costo_entrada')\n",
    "numero_carta = URIRef('https://example.org/characteristic:numero_carta')\n",
    "poder_digimon = URIRef('https://example.org/characteristic:poder_digimon')\n",
    "requerimiento_evolucion_nivel = URIRef('https://example.org/characteristic:requerimiento_evolucion_nivel')\n",
    "requerimiento_evolucion_costo = URIRef('https://example.org/characteristic:requerimiento_evolucion_costo')\n",
    "efecto = URIRef('https://example.org/characteristic:efecto')\n",
    "efecto_seguridad = URIRef('https://example.org/characteristic:efecto_seguridad')\n",
    "efecto_digievolucion = URIRef('https://example.org/characteristic:efecto_digievolucion')\n",
    "nivel = URIRef('https://example.org/characteristic:nivel')\n",
    "tipo=URIRef('https://example.org/characteristic:tipo')"
   ]
  },
  {
   "cell_type": "code",
   "execution_count": null,
   "metadata": {
    "id": "moKt8OAkuqBt"
   },
   "outputs": [],
   "source": [
    "grafomon = ConjunctiveGraph()"
   ]
  },
  {
   "cell_type": "markdown",
   "metadata": {
    "id": "HkS-LG7husKL"
   },
   "source": [
    "Creando las subclases de clase maestra: Objeto y subclases sucesoras"
   ]
  },
  {
   "cell_type": "code",
   "execution_count": null,
   "metadata": {
    "id": "uK4_IZqCisxW"
   },
   "outputs": [],
   "source": [
    "# General categories\n",
    "\n",
    "#colores\n",
    "grafomon.add((n.rojo, RDFS.subClassOf, n.object))\n",
    "grafomon.add((n.azul, RDFS.subClassOf, n.object))\n",
    "grafomon.add((n.amarillo, RDFS.subClassOf, n.object))\n",
    "grafomon.add((n.verde, RDFS.subClassOf, n.object))\n",
    "grafomon.add((n.negro, RDFS.subClassOf, n.object))\n",
    "grafomon.add((n.violeta, RDFS.subClassOf, n.object))\n",
    "grafomon.add((n.blanco, RDFS.subClassOf, n.object))\n",
    "\n",
    "#carta\n",
    "grafomon.add((n.tamer, RDFS.subClassOf, n.carta))\n",
    "grafomon.add((n.digihuevo, RDFS.subClassOf, n.carta))\n",
    "grafomon.add((n.digimon, RDFS.subClassOf, n.carta))\n",
    "grafomon.add((n.opcion, RDFS.subClassOf, n.carta))"
   ]
  }
 ],
 "metadata": {
  "colab": {
   "collapsed_sections": [],
   "name": "Digimon.ipynb",
   "provenance": []
  },
  "kernelspec": {
   "display_name": "Python 3",
   "language": "python",
   "name": "python3"
  },
  "language_info": {
   "codemirror_mode": {
    "name": "ipython",
    "version": 3
   },
   "file_extension": ".py",
   "mimetype": "text/x-python",
   "name": "python",
   "nbconvert_exporter": "python",
   "pygments_lexer": "ipython3",
   "version": "3.8.5"
  }
 },
 "nbformat": 4,
 "nbformat_minor": 1
}
