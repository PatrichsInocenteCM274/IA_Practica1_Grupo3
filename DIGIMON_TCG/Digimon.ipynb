{
  "nbformat": 4,
  "nbformat_minor": 0,
  "metadata": {
    "colab": {
      "name": "Digimon(1).ipynb",
      "provenance": [],
      "collapsed_sections": []
    },
    "kernelspec": {
      "name": "python3",
      "display_name": "Python 3"
    },
    "language_info": {
      "name": "python"
    }
  },
  "cells": [
    {
      "cell_type": "code",
      "metadata": {
        "id": "vgtypzAjbc9X",
        "colab": {
          "base_uri": "https://localhost:8080/"
        },
        "outputId": "3867ce03-a477-47e3-e37f-03c018ea6a93"
      },
      "source": [
        "!pip install rdflib"
      ],
      "execution_count": 1,
      "outputs": [
        {
          "output_type": "stream",
          "text": [
            "Collecting rdflib\n",
            "\u001b[?25l  Downloading https://files.pythonhosted.org/packages/d0/6b/6454aa1db753c0f8bc265a5bd5c10b5721a4bb24160fb4faf758cf6be8a1/rdflib-5.0.0-py3-none-any.whl (231kB)\n",
            "\u001b[K     |████████████████████████████████| 235kB 5.5MB/s \n",
            "\u001b[?25hCollecting isodate\n",
            "\u001b[?25l  Downloading https://files.pythonhosted.org/packages/9b/9f/b36f7774ff5ea8e428fdcfc4bb332c39ee5b9362ddd3d40d9516a55221b2/isodate-0.6.0-py2.py3-none-any.whl (45kB)\n",
            "\u001b[K     |████████████████████████████████| 51kB 5.5MB/s \n",
            "\u001b[?25hRequirement already satisfied: pyparsing in /usr/local/lib/python3.7/dist-packages (from rdflib) (2.4.7)\n",
            "Requirement already satisfied: six in /usr/local/lib/python3.7/dist-packages (from rdflib) (1.15.0)\n",
            "Installing collected packages: isodate, rdflib\n",
            "Successfully installed isodate-0.6.0 rdflib-5.0.0\n"
          ],
          "name": "stdout"
        }
      ]
    },
    {
      "cell_type": "code",
      "metadata": {
        "id": "N54Cc8NqdDDf"
      },
      "source": [
        "from rdflib import URIRef, BNode, Literal\n",
        "from rdflib import Namespace\n",
        "from rdflib.namespace import RDF, RDFS\n",
        "from rdflib import ConjunctiveGraph\n",
        "import pprint"
      ],
      "execution_count": 2,
      "outputs": []
    },
    {
      "cell_type": "markdown",
      "metadata": {
        "id": "XYmePFk-dTuu"
      },
      "source": [
        "# Modelado del Grafo"
      ]
    },
    {
      "cell_type": "markdown",
      "metadata": {
        "id": "QiZxAqQIdhmu"
      },
      "source": [
        "Ingresando las URIs de los digimones"
      ]
    },
    {
      "cell_type": "code",
      "metadata": {
        "id": "xyY_q778d09O"
      },
      "source": [
        "Gigimon_BT2_001 = URIRef('https://example.org/Card/BT2-001')\n",
        "DemiVeemon_BT2_002 = URIRef('https://example.org/Card/BT2-002')\n",
        "Nyaromon_BT2_003 = URIRef('https://example.org/Card/BT2-003')\n",
        "Argomon_BT2_004 = URIRef('https://example.org/Card/BT2-004')\n",
        "Poromon_BT3_001 = URIRef('https://example.org/Card/BT3-001')\n",
        "DemiVeemon_BT3_002 = URIRef('https://example.org/Card/BT3-002')\n",
        "Upamon_BT3_003 = URIRef('https://example.org/Card/BT3-003')\n",
        "Minomon_BT3_004 = URIRef('https://example.org/Card/BT3-004')\n",
        "Kakkinmon_BT3_005 = URIRef('https://example.org/Card/BT3-005')\n",
        "DemiMeramon_BT3_006 = URIRef('https://example.org/Card/BT3-006')\n",
        "GranKuwagamon_BT1_083 = URIRef('https://example.org/Card/BT1-083')\n",
        "Biyomon_BT2_010 = URIRef('https://example.org/Card/BT2-010')\n",
        "Vorvomon_BT2_011 = URIRef('https://example.org/Card/BT2-011')\n",
        "Birdramon_BT2_012 = URIRef('https://example.org/Card/BT2-012')\n",
        "Lavorvomon_BT2_014 = URIRef('https://example.org/Card/BT2-014')\n",
        "Garudamon_BT2_015 = URIRef('https://example.org/Card/BT2-015')\n",
        "Lavogaritamon_BT2_016 = URIRef('https://example.org/Card/BT2-016')\n",
        "Phoenixmon_BT2_019 = URIRef('https://example.org/Card/BT2-019')\n",
        "Veemon_BT2_021 = URIRef('https://example.org/Card/BT2-021')\n",
        "Betamon_BT2_022 = URIRef('https://example.org/Card/BT2-022')\n",
        "Gomamon_BT2_023 = URIRef('https://example.org/Card/BT2-023')\n",
        "Seadramon_BT2_024 = URIRef('https://example.org/Card/BT2-024')\n",
        "Ikkakumon_BT2_025 = URIRef('https://example.org/Card/BT2-025')\n",
        "Veedramon_BT2_026 = URIRef('https://example.org/Card/BT2-026')\n",
        "Zudomon_BT2_027 = URIRef('https://example.org/Card/BT2-027')\n",
        "AeroVeedramon_BT2_028 = URIRef('https://example.org/Card/BT2-028')\n",
        "MegaSeadramon_BT2_029 = URIRef('https://example.org/Card/BT2-029')\n",
        "Vikemon_BT2_031 = URIRef('https://example.org/Card/BT2-031')\n",
        "UlforceVeedramon_BT2_032 = URIRef('https://example.org/Card/BT2-032')\n",
        "Agumon_BT2_033 = URIRef('https://example.org/Card/BT2-033')\n",
        "Salamon_BT2_034 = URIRef('https://example.org/Card/BT2-034')\n",
        "GeoGreymon_BT2_035 = URIRef('https://example.org/Card/BT2-035')\n",
        "Gatomon_BT2_036 = URIRef('https://example.org/Card/BT2-036')\n",
        "Angewomon_BT2_037 = URIRef('https://example.org/Card/BT2-037')\n",
        "RizeGreymon_BT2_038 = URIRef('https://example.org/Card/BT2-038')\n",
        "Ophanimon_BT2_040 = URIRef('https://example.org/Card/BT2-040')\n",
        "ShineGreymon_BT2_041 = URIRef('https://example.org/Card/BT2-041')\n",
        "GloriousBurst_BT2_099 = URIRef('https://example.org/Card/BT2-099')\n",
        "PuppetPummel_BT2_100 = URIRef('https://example.org/Card/BT2-100')\n",
        "CherryBlast_BT2_101 = URIRef('https://example.org/Card/BT2-101')\n",
        "ADelicatePlan_BT3_097 = URIRef('https://example.org/Card/BT3-097')\n",
        "PlasmaStake_BT3_098 = URIRef('https://example.org/Card/BT3-098')\n",
        "WeHavetoStopFighting_BT3_099 = URIRef('https://example.org/Card/BT3-099')\n",
        "DeathParadeBlaster_BT3_100 = URIRef('https://example.org/Card/BT3-100')\n",
        "Bifrost_BT3_101 = URIRef('https://example.org/Card/BT3-101')\n",
        "CodeCracking_BT3_102 = URIRef('https://example.org/Card/BT3-102')\n",
        "HiddenPotentialDiscovered_BT3_103 = URIRef('https://example.org/Card/BT3-103')\n",
        "PositronLaser_BT3_104 = URIRef('https://example.org/Card/BT3-104')\n",
        "BreathOfTheGods_BT3_105 = URIRef('https://example.org/Card/BT3-105')\n",
        "BeastCyclone_BT3_106 = URIRef('https://example.org/Card/BT3-106')\n",
        "DarkDespair_BT3_108 = URIRef('https://example.org/Card/BT3-108')\n",
        "\n"
      ],
      "execution_count": 3,
      "outputs": []
    }
  ]
}