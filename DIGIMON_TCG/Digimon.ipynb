{
  "nbformat": 4,
  "nbformat_minor": 0,
  "metadata": {
    "colab": {
      "name": "Digimon(1).ipynb",
      "provenance": [],
      "collapsed_sections": []
    },
    "kernelspec": {
      "name": "python3",
      "display_name": "Python 3"
    },
    "language_info": {
      "name": "python"
    }
  },
  "cells": [
    {
      "cell_type": "code",
      "metadata": {
        "id": "vgtypzAjbc9X",
        "colab": {
          "base_uri": "https://localhost:8080/"
        },
        "outputId": "3867ce03-a477-47e3-e37f-03c018ea6a93"
      },
      "source": [
        "!pip install rdflib"
      ],
      "execution_count": 1,
      "outputs": [
        {
          "output_type": "stream",
          "text": [
            "Collecting rdflib\n",
            "\u001b[?25l  Downloading https://files.pythonhosted.org/packages/d0/6b/6454aa1db753c0f8bc265a5bd5c10b5721a4bb24160fb4faf758cf6be8a1/rdflib-5.0.0-py3-none-any.whl (231kB)\n",
            "\u001b[K     |████████████████████████████████| 235kB 5.5MB/s \n",
            "\u001b[?25hCollecting isodate\n",
            "\u001b[?25l  Downloading https://files.pythonhosted.org/packages/9b/9f/b36f7774ff5ea8e428fdcfc4bb332c39ee5b9362ddd3d40d9516a55221b2/isodate-0.6.0-py2.py3-none-any.whl (45kB)\n",
            "\u001b[K     |████████████████████████████████| 51kB 5.5MB/s \n",
            "\u001b[?25hRequirement already satisfied: pyparsing in /usr/local/lib/python3.7/dist-packages (from rdflib) (2.4.7)\n",
            "Requirement already satisfied: six in /usr/local/lib/python3.7/dist-packages (from rdflib) (1.15.0)\n",
            "Installing collected packages: isodate, rdflib\n",
            "Successfully installed isodate-0.6.0 rdflib-5.0.0\n"
          ],
          "name": "stdout"
        }
      ]
    },
    {
      "cell_type": "code",
      "metadata": {
        "id": "N54Cc8NqdDDf"
      },
      "source": [
        "from rdflib import URIRef, BNode, Literal\n",
        "from rdflib import Namespace\n",
        "from rdflib.namespace import RDF, RDFS\n",
        "from rdflib import ConjunctiveGraph\n",
        "import pprint"
      ],
      "execution_count": 2,
      "outputs": []
    },
    {
      "cell_type": "markdown",
      "metadata": {
        "id": "XYmePFk-dTuu"
      },
      "source": [
        "# Modelado del Grafo"
      ]
    },
    {
      "cell_type": "markdown",
      "metadata": {
        "id": "QiZxAqQIdhmu"
      },
      "source": [
        "Ingresando las URIs de los digimones"
      ]
    },
    {
      "cell_type": "code",
      "metadata": {
        "id": "xyY_q778d09O"
      },
      "source": [
        "Gigimon_BT2_001 = URIRef('https://example.org/Card/BT2-001')\n",
        "DemiVeemon_BT2_002 = URIRef('https://example.org/Card/BT2-002')\n",
        "Nyaromon_BT2_003 = URIRef('https://example.org/Card/BT2-003')\n",
        "Argomon_BT2_004 = URIRef('https://example.org/Card/BT2-004')\n",
        "Poromon_BT3_001 = URIRef('https://example.org/Card/BT3-001')\n",
        "DemiVeemon_BT3_002 = URIRef('https://example.org/Card/BT3-002')\n",
        "Upamon_BT3_003 = URIRef('https://example.org/Card/BT3-003')\n",
        "Minomon_BT3_004 = URIRef('https://example.org/Card/BT3-004')\n",
        "Kakkinmon_BT3_005 = URIRef('https://example.org/Card/BT3-005')\n",
        "DemiMeramon_BT3_006 = URIRef('https://example.org/Card/BT3-006')\n",
        "GranKuwagamon_BT1_083 = URIRef('https://example.org/Card/BT1-083')\n",
        "Biyomon_BT2_010 = URIRef('https://example.org/Card/BT2-010')\n",
        "Vorvomon_BT2_011 = URIRef('https://example.org/Card/BT2-011')\n",
        "Birdramon_BT2_012 = URIRef('https://example.org/Card/BT2-012')\n",
        "Lavorvomon_BT2_014 = URIRef('https://example.org/Card/BT2-014')\n",
        "Garudamon_BT2_015 = URIRef('https://example.org/Card/BT2-015')\n",
        "Lavogaritamon_BT2_016 = URIRef('https://example.org/Card/BT2-016')\n",
        "Phoenixmon_BT2_019 = URIRef('https://example.org/Card/BT2-019')\n",
        "Veemon_BT2_021 = URIRef('https://example.org/Card/BT2-021')\n",
        "Betamon_BT2_022 = URIRef('https://example.org/Card/BT2-022')\n",
        "Gomamon_BT2_023 = URIRef('https://example.org/Card/BT2-023')\n",
        "Seadramon_BT2_024 = URIRef('https://example.org/Card/BT2-024')\n",
        "Ikkakumon_BT2_025 = URIRef('https://example.org/Card/BT2-025')\n",
        "Veedramon_BT2_026 = URIRef('https://example.org/Card/BT2-026')\n",
        "Zudomon_BT2_027 = URIRef('https://example.org/Card/BT2-027')\n",
        "AeroVeedramon_BT2_028 = URIRef('https://example.org/Card/BT2-028')\n",
        "MegaSeadramon_BT2_029 = URIRef('https://example.org/Card/BT2-029')\n",
        "Vikemon_BT2_031 = URIRef('https://example.org/Card/BT2-031')\n",
        "UlforceVeedramon_BT2_032 = URIRef('https://example.org/Card/BT2-032')\n",
        "Agumon_BT2_033 = URIRef('https://example.org/Card/BT2-033')\n",
        "Salamon_BT2_034 = URIRef('https://example.org/Card/BT2-034')\n",
        "GeoGreymon_BT2_035 = URIRef('https://example.org/Card/BT2-035')\n",
        "Gatomon_BT2_036 = URIRef('https://example.org/Card/BT2-036')\n",
        "Angewomon_BT2_037 = URIRef('https://example.org/Card/BT2-037')\n",
        "RizeGreymon_BT2_038 = URIRef('https://example.org/Card/BT2-038')\n",
        "Ophanimon_BT2_040 = URIRef('https://example.org/Card/BT2-040')\n",
        "ShineGreymon_BT2_041 = URIRef('https://example.org/Card/BT2-041')\n",
        "GloriousBurst_BT2_099 = URIRef('https://example.org/Card/BT2-099')\n",
        "PuppetPummel_BT2_100 = URIRef('https://example.org/Card/BT2-100')\n",
        "CherryBlast_BT2_101 = URIRef('https://example.org/Card/BT2-101')\n",
        "ADelicatePlan_BT3_097 = URIRef('https://example.org/Card/BT3-097')\n",
        "PlasmaStake_BT3_098 = URIRef('https://example.org/Card/BT3-098')\n",
        "WeHavetoStopFighting_BT3_099 = URIRef('https://example.org/Card/BT3-099')\n",
        "DeathParadeBlaster_BT3_100 = URIRef('https://example.org/Card/BT3-100')\n",
        "Bifrost_BT3_101 = URIRef('https://example.org/Card/BT3-101')\n",
        "CodeCracking_BT3_102 = URIRef('https://example.org/Card/BT3-102')\n",
        "HiddenPotentialDiscovered_BT3_103 = URIRef('https://example.org/Card/BT3-103')\n",
        "PositronLaser_BT3_104 = URIRef('https://example.org/Card/BT3-104')\n",
        "BreathOfTheGods_BT3_105 = URIRef('https://example.org/Card/BT3-105')\n",
        "BeastCyclone_BT3_106 = URIRef('https://example.org/Card/BT3-106')\n",
        "DarkDespair_BT3_108 = URIRef('https://example.org/Card/BT3-108')\n",
        "Necrophobia_BT3_110 = URIRef('https://example.org/Card/BT3-110')\n",
        "Craniamon_BT3_075 = URIRef('https://example.org/Card/BT3-075')\n",
        "Candlemon_BT3_076 = URIRef('https://example.org/Card/BT3-076')\n",
        "Gazimon_BT3_077 = URIRef('https://example.org/Card/BT3-077')\n",
        "Shamanmon_BT3_078 = URIRef('https://example.org/Card/BT3-078')\n",
        "Saberdramon_BT3_080 = URIRef('https://example.org/Card/BT3-080')\n",
        "BlackGatomon_BT3_082 = URIRef('https://example.org/Card/BT3-082')\n",
        "Meramon_BT3_083 = URIRef('https://example.org/Card/BT3-083')\n",
        "SkullMeramon_BT3_085 = URIRef('https://example.org/Card/BT3-085')\n",
        "Arukenimon_BT3_086 = URIRef('https://example.org/Card/BT3-086')\n",
        "Mummymon_BT3_087 = URIRef('https://example.org/Card/BT3-087')\n",
        "LadyDevimon_BT3_088 = URIRef('https://example.org/Card/BT3-088')\n",
        "Mastemon_BT3_090 = URIRef('https://example.org/Card/BT3-090')\n",
        "MaloMyotismon_BT3_092 = URIRef('https://example.org/Card/BT3-092')\n",
        "ImperialdramonDragonMode_BT3_111 = URIRef('https://example.org/Card/BT3-111')\n",
        "OmnimonAlter_S_BT3_112 = URIRef('https://example.org/Card/BT3-112')\n",
        "RinaShinomiya_BT2_086= URIRef('https://example.org/Card/BT2-086')\n",
        "DavisMotomiya_BT3_093 = URIRef('https://example.org/Card/BT3-093')\n",
        "KenIchijoji_BT3_094 = URIRef('https://example.org/Card/BT3-094')\n",
        "JoeKido_BT3_095 = URIRef('https://example.org/Card/BT3-095')\n",
        "MimiTachikawa_BT3_096 = URIRef('https://example.org/Card/BT3-096')\n",
        "ScrapClaw_BT1_091 = URIRef('https://example.org/Card/BT1-091')\n",
        "BraveShield_BT1_095 = URIRef('https://example.org/Card/BT1-095')\n",
        "Argomon_BT2_042 = URIRef('https://example.org/Card/BT2-042')\n",
        "Argomon_BT2_045 = URIRef('https://example.org/Card/BT2-045')\n",
        "Argomon_BT2_047 = URIRef('https://example.org/Card/BT2-047')\n",
        "Argomon_BT2_050 = URIRef('https://example.org/Card/BT2-050')\n",
        "BlackWarGreymon_BT2_112 = URIRef('https://example.org/Card/BT2-112')\n",
        "Agumon_BT3_007 = URIRef('https://example.org/Card/BT3-007')\n",
        "Zubamon_BT3_008 = URIRef('https://example.org/Card/BT3-008')\n",
        "Hawkmon_BT3_009 = URIRef('https://example.org/Card/BT3-009')\n",
        "ZubaEagermon_BT3_010 = URIRef('https://example.org/Card/BT3-010')\n",
        "Greymon_BT3_011 = URIRef('https://example.org/Card/BT3-011')\n",
        "Aquilamon_BT3_012 = URIRef('https://example.org/Card/BT3-012')\n",
        "Duramon_BT3_013 = URIRef('https://example.org/Card/BT3-013')\n",
        "Silphymon_BT3_014 = URIRef('https://example.org/Card/BT3-014')\n",
        "MetalGreymon_BT3_015 = URIRef('https://example.org/Card/BT3-015')\n",
        "Durandamon_BT3_016 = URIRef('https://example.org/Card/BT3-016')\n",
        "Valkyrimon_BT3_017 = URIRef('https://example.org/Card/BT3-017')\n",
        "BlitzGreymon_BT3_018 = URIRef('https://example.org/Card/BT3-018')\n",
        "RagnaLoardmon_BT3_019 = URIRef('https://example.org/Card/BT3-019')\n",
        "Veemon_BT3_021 = URIRef('https://example.org/Card/BT3-021')\n",
        "Penguinmon_BT3_022 = URIRef('https://example.org/Card/BT3-022')\n",
        "Angemon_BT3_023 = URIRef('https://example.org/Card/BT3-023')\n",
        "Airdramon_BT3_024 = URIRef('https://example.org/Card/BT3-024')\n",
        "ExVeemon_BT3_025 = URIRef('https://example.org/Card/BT3-025')\n",
        "MagnaAngemon_BT3_026 = URIRef('https://example.org/Card/BT3-026')\n",
        "Paildramon_BT3_027 = URIRef('https://example.org/Card/BT3-027')\n",
        "Bastemon_BT3_028 = URIRef('https://example.org/Card/BT3-028')\n",
        "Goldramon_BT3_029 = URIRef('https://example.org/Card/BT3-029')\n",
        "\n",
        "\n"
      ],
      "execution_count": 3,
      "outputs": []
    }
  ]
}